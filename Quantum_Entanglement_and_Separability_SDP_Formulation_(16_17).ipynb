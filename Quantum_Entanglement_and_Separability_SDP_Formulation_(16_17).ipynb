{
  "cells": [
    {
      "cell_type": "code",
      "execution_count": 43,
      "metadata": {
        "colab": {
          "base_uri": "https://localhost:8080/"
        },
        "id": "qcuv4zFAutZL",
        "outputId": "b4acaa59-23f0-479e-8f4e-1c07bd134fc9"
      },
      "outputs": [
        {
          "name": "stdout",
          "output_type": "stream",
          "text": [
            "Populating the interactive namespace from numpy and matplotlib\n"
          ]
        },
        {
          "name": "stderr",
          "output_type": "stream",
          "text": [
            "/usr/local/lib/python3.10/dist-packages/IPython/core/magics/pylab.py:159: UserWarning: pylab import has clobbered these variables: ['prod']\n",
            "`%matplotlib` prevents importing * from pylab and numpy\n",
            "  warn(\"pylab import has clobbered these variables: %s\"  % clobbered +\n"
          ]
        }
      ],
      "source": [
        "%pylab inline"
      ]
    },
    {
      "cell_type": "code",
      "execution_count": 44,
      "metadata": {
        "colab": {
          "base_uri": "https://localhost:8080/"
        },
        "id": "NGjqDYRxu-Wc",
        "outputId": "1455c36c-396a-4655-b567-438cda3714a8"
      },
      "outputs": [
        {
          "name": "stdout",
          "output_type": "stream",
          "text": [
            "Drive already mounted at /content/drive; to attempt to forcibly remount, call drive.mount(\"/content/drive\", force_remount=True).\n"
          ]
        }
      ],
      "source": [
        "from google.colab import drive\n",
        "drive.mount('/content/drive')"
      ]
    },
    {
      "cell_type": "code",
      "execution_count": 45,
      "metadata": {
        "id": "XwpXOwDovB9x"
      },
      "outputs": [],
      "source": [
        "import os\n",
        "\n",
        "os.environ['MOSEKLM_LICENSE_FILE'] = '/content/mosek.lic'"
      ]
    },
    {
      "cell_type": "code",
      "execution_count": 46,
      "metadata": {
        "id": "kPBpzcO0utrF"
      },
      "outputs": [],
      "source": [
        "# For Google Colab use, commands installing packages\n",
        "try:\n",
        "  import google.colab\n",
        "  IN_COLAB = True\n",
        "except:\n",
        "  IN_COLAB = False\n",
        "\n",
        "# Install PICOS and CVXOPT in Google Colab\n",
        "if IN_COLAB:\n",
        "    !pip install -q picos\n",
        "    !pip install -q mosek"
      ]
    },
    {
      "cell_type": "code",
      "execution_count": 47,
      "metadata": {
        "id": "31I_J0s6uxbG"
      },
      "outputs": [],
      "source": [
        "import picos as pic\n",
        "import numpy as np"
      ]
    },
    {
      "cell_type": "code",
      "execution_count": 48,
      "metadata": {
        "colab": {
          "base_uri": "https://localhost:8080/"
        },
        "id": "4ROLFTQCvKwG",
        "outputId": "17d95b81-aaaf-4fcd-853a-ec3a688263fd"
      },
      "outputs": [
        {
          "name": "stdout",
          "output_type": "stream",
          "text": [
            "Solvers supported on this installation of picos: dict_keys(['cplex', 'cvxopt', 'ecos', 'glpk', 'gurobi', 'mosek', 'mskfsn', 'osqp', 'scip', 'smcp'])\n",
            "Solvers available to picos on this machine : ['cvxopt', 'ecos', 'mosek', 'mskfsn', 'osqp']\n"
          ]
        }
      ],
      "source": [
        "print('Solvers supported on this installation of picos:', pic.solvers.all_solvers().keys())\n",
        "print('Solvers available to picos on this machine :', pic.solvers.available_solvers())"
      ]
    },
    {
      "cell_type": "code",
      "execution_count": 49,
      "metadata": {
        "id": "I0a84zNpvMYE"
      },
      "outputs": [],
      "source": [
        "def P23_matrix(da, db1, db2):\n",
        "    \"\"\"\n",
        "    Create the permutation matrix S_{b1,b2} for dimensions m, n, and p\n",
        "    such that it permutes the tensor product as:\n",
        "    S_{b1,b2}(|\\psi_{a}⟩ ⊗ |\\phi_{b_{1}}⟩ ⊗ |\\theta_{b_{2}}⟩) = |\\psi_{a}⟩ ⊗ (|\\theta_{b_{1}}⟩ ⊗ |\\phi_{b_{2}}⟩)\n",
        "\n",
        "    Parameters:\n",
        "    da (int): Dimension of |\\psi_a⟩\n",
        "    db1 (int): Dimension of |\\phi_{b_1}⟩\n",
        "    db2 (int): Dimension of |\\theta_{b_2}⟩\n",
        "\n",
        "    Returns:\n",
        "    numpy.ndarray: The permutation matrix\n",
        "    \"\"\"\n",
        "    # Total size of the tensor product space\n",
        "    total_size = da * db1 * db2\n",
        "\n",
        "    # Create the permutation matrix\n",
        "    P = np.zeros((total_size, total_size))\n",
        "\n",
        "    for a in range(da):\n",
        "        for b1 in range(db1):\n",
        "            for b2 in range(db2):\n",
        "                old_index = a * db1 * db2 + b1 * db2 + b2\n",
        "                new_index = a * db1 * db2 + b2 * db1 + b1\n",
        "                P[new_index, old_index] = 1\n",
        "\n",
        "    return P"
      ]
    },
    {
      "cell_type": "code",
      "execution_count": 50,
      "metadata": {
        "colab": {
          "base_uri": "https://localhost:8080/"
        },
        "id": "pvUs1RKKvOND",
        "outputId": "fc196cc9-2199-4a58-856f-e584c12f734d"
      },
      "outputs": [
        {
          "name": "stdout",
          "output_type": "stream",
          "text": [
            "Permutation matrix is correct\n"
          ]
        }
      ],
      "source": [
        "# P23 Test\n",
        "# Define two matrices\n",
        "phi1 = np.array([[1],\n",
        "              [2]])\n",
        "da = 2\n",
        "\n",
        "phi2 = np.array([[2],\n",
        "              [3]])\n",
        "db1 = 2\n",
        "\n",
        "phi3 = np.array([[4],\n",
        "              [5]])\n",
        "db2 = 2\n",
        "\n",
        "# create permatutation matrix\n",
        "Sab1b2 = P23_matrix(da, db1, db2)\n",
        "\n",
        "if np.all(Sab1b2 @ np.kron(np.kron(phi1, phi2), phi3)) == np.all(Sab1b2 @ np.kron(np.kron(phi1, phi3), phi2)):\n",
        "  print(\"Permutation matrix is correct\")\n",
        "else:\n",
        "  print(\"Permutation matrix is incorrect\")"
      ]
    },
    {
      "cell_type": "markdown",
      "metadata": {
        "id": "LvnO4FvcvUpE"
      },
      "source": [
        "# Example 1"
      ]
    },
    {
      "cell_type": "markdown",
      "metadata": {
        "id": "xDb8LuG_vYtr"
      },
      "source": [
        "Given a bell state $|\\phi⟩ = \\frac{1}{\\sqrt{2}}(|00⟩ + |11⟩)$ check if $\\rho_{ab}$ has a $k=1$ extension."
      ]
    },
    {
      "cell_type": "code",
      "execution_count": 51,
      "metadata": {
        "id": "xbW-9oVlvYEN"
      },
      "outputs": [],
      "source": [
        "#State to check separability\n",
        "phiMat = np.array([[1.,0.,0.,1.],\n",
        "                [0.,0.,0.,0.],\n",
        "                [0.,0.,0.,0.],\n",
        "                [1.,0.,0.,1.]])/2\n",
        "\n",
        "da = 2\n",
        "db1 = 2\n",
        "dB = db1\n",
        "db = dB"
      ]
    },
    {
      "cell_type": "code",
      "execution_count": 52,
      "metadata": {
        "id": "Vrd9zu1Ovax2"
      },
      "outputs": [],
      "source": [
        "#Constants\n",
        "#----------\n",
        "pab = pic.Constant(\"pab\", phiMat)\n",
        "\n",
        "Iab = pic.Constant('Iab', np.eye(da*db))\n",
        "\n",
        "shpaB = (da*dB,da*dB)\n",
        "shpab = (da*db, da*db)\n",
        "shpsys = (da, db)\n",
        "\n",
        "#Variables\n",
        "#----------\n",
        "W = pic.HermitianVariable('W', shpab)\n",
        "Z0 = pic.HermitianVariable('Z0', shpab)\n",
        "Z1 = pic.HermitianVariable('Z1', shpaB)"
      ]
    },
    {
      "cell_type": "markdown",
      "metadata": {
        "id": "yToaky9ZveLu"
      },
      "source": [
        "The $k=1$ formulation is\n",
        "$$\\max_{W, Z_{0}, Z_{1}}\\rho_{ab} \\boldsymbol{⋅} W$$\n",
        "$$\\text{subject to } W + Z_{0} + \\mathcal{T}_{b}(Z_{1}) = 0$$\n",
        "$$I_{ab} \\boldsymbol{⋅} W = -1$$\n",
        "$$Z_{0}, Z_{1} \\succeq 0$$"
      ]
    },
    {
      "cell_type": "code",
      "execution_count": 53,
      "metadata": {
        "colab": {
          "base_uri": "https://localhost:8080/"
        },
        "id": "9i6aKdKHvcYv",
        "outputId": "320c30e0-5281-400c-a281-54b2ec00e68f"
      },
      "outputs": [
        {
          "data": {
            "text/plain": [
              "<4×4 Complex LMI Constraint: Z0 ≽ 0>"
            ]
          },
          "execution_count": 53,
          "metadata": {},
          "output_type": "execute_result"
        }
      ],
      "source": [
        "prob1P = pic.Problem()\n",
        "\n",
        "#Constraints\n",
        "#----------\n",
        "prob1P.add_constraint(W + Z0 + pic.partial_transpose(Z1, subsystems=(1), dimensions=shpsys) == 0)\n",
        "\n",
        "prob1P.add_constraint(pic.trace(Iab * W) == -1)\n",
        "\n",
        "prob1P.add_constraint(Z1 >> 0)\n",
        "\n",
        "prob1P.add_constraint(Z0 >> 0)"
      ]
    },
    {
      "cell_type": "code",
      "execution_count": 54,
      "metadata": {
        "colab": {
          "base_uri": "https://localhost:8080/"
        },
        "id": "n80HgqMXvgcf",
        "outputId": "ad8173d6-429a-44b1-fb75-8f7edafbc6e1"
      },
      "outputs": [
        {
          "name": "stdout",
          "output_type": "stream",
          "text": [
            "Complex Semidefinite Program\n",
            "  maximize tr(pab·W)\n",
            "  over\n",
            "    4×4 hermitian variables W, Z0, Z1\n",
            "  subject to\n",
            "    W + Z0 + Z1.{[2×2]⊗[2×2]ᵀ} = 0\n",
            "    tr(Iab·W) = -1\n",
            "    Z1 ≽ 0\n",
            "    Z0 ≽ 0\n"
          ]
        }
      ],
      "source": [
        "#Objective\n",
        "#----------\n",
        "prob1P.set_objective('max',pic.trace(pab*W))\n",
        "\n",
        "#User readable view of the problem being composed in PICOS'\n",
        "print(prob1P)"
      ]
    },
    {
      "cell_type": "code",
      "execution_count": 55,
      "metadata": {
        "colab": {
          "base_uri": "https://localhost:8080/"
        },
        "id": "1G861bkqvh3G",
        "outputId": "1c92346a-becc-40e1-88c7-313702da59fb"
      },
      "outputs": [
        {
          "name": "stdout",
          "output_type": "stream",
          "text": [
            "===================================\n",
            "           PICOS 2.4.17            \n",
            "===================================\n",
            "Problem type: Complex Semidefinite Program.\n",
            "Searching a solution strategy for MOSEK via Optimizer API.\n",
            "Solution strategy:\n",
            "  1. ExtraOptions\n",
            "  2. ComplexAffineToRealReformulation\n",
            "  3. ComplexLMIToRealReformulation\n",
            "  4. MOSEKSolver\n",
            "Applying ExtraOptions.\n",
            "Applying ComplexAffineToRealReformulation.\n",
            "Applying ComplexLMIToRealReformulation.\n",
            "Building a MOSEK problem instance.\n",
            "Starting solution search.\n",
            "-----------------------------------\n",
            "               MOSEK               \n",
            "         via Optimizer API         \n",
            "-----------------------------------\n",
            "Problem\n",
            "  Name                   :                 \n",
            "  Objective sense        : maximize        \n",
            "  Type                   : CONIC (conic optimization problem)\n",
            "  Constraints            : 105             \n",
            "  Affine conic cons.     : 0               \n",
            "  Disjunctive cons.      : 0               \n",
            "  Cones                  : 0               \n",
            "  Scalar variables       : 48              \n",
            "  Matrix variables       : 2 (scalarized: 72)\n",
            "  Integer variables      : 0               \n",
            "\n",
            "Optimizer started.\n",
            "Presolve started.\n",
            "Linear dependency checker started.\n",
            "Linear dependency checker terminated.\n",
            "Eliminator started.\n",
            "Freed constraints in eliminator : 17\n",
            "Eliminator terminated.\n",
            "Eliminator started.\n",
            "Freed constraints in eliminator : 0\n",
            "Eliminator terminated.\n",
            "Eliminator - tries                  : 2                 time                   : 0.00            \n",
            "Lin. dep.  - tries                  : 1                 time                   : 0.00            \n",
            "Lin. dep.  - primal attempts        : 1                 successes              : 1               \n",
            "Lin. dep.  - dual attempts          : 0                 successes              : 0               \n",
            "Lin. dep.  - primal deps.           : 12                dual deps.             : 0               \n",
            "Presolve terminated. Time: 0.01    \n",
            "Optimizer  - threads                : 1               \n",
            "Optimizer  - solved problem         : the primal      \n",
            "Optimizer  - Constraints            : 72              \n",
            "Optimizer  - Cones                  : 1               \n",
            "Optimizer  - Scalar variables       : 32                conic                  : 32              \n",
            "Optimizer  - Semi-definite variables: 2                 scalarized             : 72              \n",
            "Factor     - setup time             : 0.00            \n",
            "Factor     - dense det. time        : 0.00              GP order time          : 0.00            \n",
            "Factor     - nonzeros before factor : 2356              after factor           : 2628            \n",
            "Factor     - dense dim.             : 0                 flops                  : 1.41e+05        \n",
            "ITE PFEAS    DFEAS    GFEAS    PRSTATUS   POBJ              DOBJ              MU       TIME  \n",
            "0   1.0e+00  1.0e+00  1.0e+00  0.00e+00   -5.000000000e-01  -5.000000000e-01  1.0e+00  0.04  \n",
            "1   2.2e-01  2.2e-01  7.4e-02  2.42e+00   1.441334287e-01   1.383604266e-01   2.2e-01  0.07  \n",
            "2   2.6e-02  2.6e-02  3.9e-03  7.90e-01   5.076943790e-01   4.998200026e-01   2.6e-02  0.07  \n",
            "3   4.7e-06  4.7e-06  1.1e-08  1.06e+00   4.999968129e-01   4.999946531e-01   4.7e-06  0.08  \n",
            "4   1.9e-11  1.9e-11  4.3e-14  1.00e+00   5.000000000e-01   5.000000000e-01   1.9e-11  0.08  \n",
            "Optimizer terminated. Time: 0.10    \n",
            "\n",
            "-------------[ MOSEK ]-------------\n",
            "Solver claims optimal solution for feasible problem.\n",
            "Applying the solution.\n",
            "Applied solution is primal feasible.\n",
            "Search 1.0e-01s, solve 1.5e-01s, overhead 45%.\n",
            "=============[ PICOS ]=============\n"
          ]
        },
        {
          "data": {
            "text/plain": [
              "<primal feasible solution pair (claimed optimal) from mosek>"
            ]
          },
          "execution_count": 55,
          "metadata": {},
          "output_type": "execute_result"
        }
      ],
      "source": [
        "#Solve the problem using cvxopt as a solver\n",
        "prob1P.solve(verbosity=True,solver='mosek')"
      ]
    },
    {
      "cell_type": "code",
      "execution_count": 56,
      "metadata": {
        "colab": {
          "base_uri": "https://localhost:8080/"
        },
        "id": "SVBtsI-1vkX2",
        "outputId": "c602d4dc-ca19-498c-e5b8-77de3607e148"
      },
      "outputs": [
        {
          "name": "stdout",
          "output_type": "stream",
          "text": [
            "Status at the end of solving the problem usng mosek: optimal\n",
            "Least mu obtained from solving the SDP using mosek above 0.49999999996591\n",
            "Since this SDP value is positive, the state is entangled\n"
          ]
        }
      ],
      "source": [
        "print('Status at the end of solving the problem usng mosek:', prob1P.status)\n",
        "\n",
        "mu1P =  prob1P.value\n",
        "print('Least mu obtained from solving the SDP using mosek above', mu1P)\n",
        "print('Since this SDP value is positive, the state is entangled')"
      ]
    },
    {
      "cell_type": "markdown",
      "metadata": {
        "id": "HqNeiXnPvupW"
      },
      "source": [
        "# Example 2"
      ]
    },
    {
      "cell_type": "markdown",
      "metadata": {
        "id": "6PkIU3HfvvbU"
      },
      "source": [
        "Check for the existence of PPT symmetric extension with $k=1$ for a two qutrit state\n",
        "$$p_{ab} = \\frac{2}{7}|\\psi_{+}⟩⟨\\psi_{+}| + \\frac{α}{7}\\sigma_{+} + \\frac{5 -  \\alpha}{7}S_{ab}\\sigma_{+} + S_{ab}$$\n",
        "where $|\\psi_{+}⟩ = \\frac{1}{\\sqrt{3}}(|00⟩ + |11⟩ + |22⟩)$, $|\\sigma_{+}⟩ = \\frac{1}{\\sqrt{3}}(|01⟩⟨01| + |12⟩⟨12| + |20⟩⟨20|)$, $S_{ab}$ is the swap operator, and $0 \\leq \\alpha \\leq \\frac{5}{2}$"
      ]
    },
    {
      "cell_type": "code",
      "execution_count": 57,
      "metadata": {
        "id": "ZpPNqpMevrZ3"
      },
      "outputs": [],
      "source": [
        "da = 3\n",
        "db = 3\n",
        "db1 = db\n",
        "dB = db1\n",
        "dab = da * db\n",
        "daB = da * dB\n",
        "\n",
        "#Construct input state\n",
        "idMat = np.eye(da*db1)\n",
        "psiP = idMat[0] + idMat[4] + idMat[8]\n",
        "psiP = np.outer(psiP,psiP)\n",
        "psiP = psiP/np.trace(psiP)\n",
        "\n",
        "sigPlus = np.outer(idMat[1],idMat[1]) + np.outer(idMat[5],idMat[5]) + np.outer(idMat[6],idMat[6])\n",
        "sigPlus = sigPlus/np.trace(sigPlus)\n",
        "sigPlusEx = np.outer(idMat[3],idMat[3]) + np.outer(idMat[7],idMat[7]) + np.outer(idMat[2],idMat[2])\n",
        "sigPlusEx = sigPlusEx/np.trace(sigPlusEx)\n",
        "\n",
        "al = 0.75\n",
        "rhoMat = (2/7)*psiP + (al/7)*sigPlus + ((5-al)/7)*sigPlusEx"
      ]
    },
    {
      "cell_type": "code",
      "execution_count": 58,
      "metadata": {
        "id": "4j93Iwfxvx_O"
      },
      "outputs": [],
      "source": [
        "#Constants\n",
        "#----------\n",
        "pab = pic.Constant(\"pab\", rhoMat)\n",
        "Iab = pic.Constant('Iab', np.eye(da*db))\n",
        "\n",
        "shpab = (da*db, da*db)\n",
        "shpaB = (da*dB,da*dB)\n",
        "shpsys = (da, db)\n",
        "\n",
        "#Variables\n",
        "#----------\n",
        "W = pic.HermitianVariable('W', shpab)\n",
        "Z1 = pic.HermitianVariable('Z1', shpaB)\n",
        "Z0 = pic.HermitianVariable('Z0', shpab)"
      ]
    },
    {
      "cell_type": "markdown",
      "metadata": {
        "id": "rfErzgk7v02c"
      },
      "source": [
        "The $k=1$ formulation is\n",
        "$$\\max_{W, Z_{0}, Z_{1}}\\rho_{ab} \\boldsymbol{⋅} W$$\n",
        "$$\\text{subject to } W + Z_{0} + \\mathcal{T}_{b}(Z_{1}) = 0$$\n",
        "$$I_{ab} \\boldsymbol{⋅} W = -1$$\n",
        "$$Z_{0}, Z_{1} \\succeq 0$$"
      ]
    },
    {
      "cell_type": "code",
      "execution_count": 59,
      "metadata": {
        "colab": {
          "base_uri": "https://localhost:8080/"
        },
        "id": "8kqdaHaNvzNl",
        "outputId": "1d221520-a470-4efd-b522-0bb623e341e9"
      },
      "outputs": [
        {
          "data": {
            "text/plain": [
              "<9×9 Complex LMI Constraint: Z0 ≽ 0>"
            ]
          },
          "execution_count": 59,
          "metadata": {},
          "output_type": "execute_result"
        }
      ],
      "source": [
        "prob2P = pic.Problem()\n",
        "\n",
        "#Constraints\n",
        "#----------\n",
        "prob2P.add_constraint(W + Z0 + pic.partial_transpose(Z1, subsystems=(1), dimensions=shpsys) == 0)\n",
        "\n",
        "prob2P.add_constraint(pic.trace(Iab * W) == -1)\n",
        "\n",
        "prob2P.add_constraint(Z1 >> 0)\n",
        "\n",
        "prob2P.add_constraint(Z0 >> 0)"
      ]
    },
    {
      "cell_type": "code",
      "execution_count": 60,
      "metadata": {
        "colab": {
          "base_uri": "https://localhost:8080/"
        },
        "id": "j0cm08afv2uW",
        "outputId": "f79b6193-2fb1-46db-8e7b-7f716e71aa82"
      },
      "outputs": [
        {
          "name": "stdout",
          "output_type": "stream",
          "text": [
            "Complex Semidefinite Program\n",
            "  maximize tr(pab·W)\n",
            "  over\n",
            "    9×9 hermitian variables W, Z0, Z1\n",
            "  subject to\n",
            "    W + Z0 + Z1.{[3×3]⊗[3×3]ᵀ} = 0\n",
            "    tr(Iab·W) = -1\n",
            "    Z1 ≽ 0\n",
            "    Z0 ≽ 0\n"
          ]
        }
      ],
      "source": [
        "#Objective\n",
        "#----------\n",
        "prob2P.set_objective('max', pic.trace(pab * W))\n",
        "\n",
        "#User readable view of the problem being composed in PICOS'\n",
        "print(prob2P)"
      ]
    },
    {
      "cell_type": "code",
      "execution_count": 61,
      "metadata": {
        "colab": {
          "base_uri": "https://localhost:8080/"
        },
        "id": "_WWFmq9ov4c0",
        "outputId": "7c968b10-bf49-40ca-e15d-d399d3bf445f"
      },
      "outputs": [
        {
          "name": "stdout",
          "output_type": "stream",
          "text": [
            "===================================\n",
            "           PICOS 2.4.17            \n",
            "===================================\n",
            "Problem type: Complex Semidefinite Program.\n",
            "Searching a solution strategy for MOSEK via Optimizer API.\n",
            "Solution strategy:\n",
            "  1. ExtraOptions\n",
            "  2. ComplexAffineToRealReformulation\n",
            "  3. ComplexLMIToRealReformulation\n",
            "  4. MOSEKSolver\n",
            "Applying ExtraOptions.\n",
            "Applying ComplexAffineToRealReformulation.\n",
            "Applying ComplexLMIToRealReformulation.\n",
            "Building a MOSEK problem instance.\n",
            "Starting solution search.\n",
            "-----------------------------------\n",
            "               MOSEK               \n",
            "         via Optimizer API         \n",
            "-----------------------------------\n",
            "Problem\n",
            "  Name                   :                 \n",
            "  Objective sense        : maximize        \n",
            "  Type                   : CONIC (conic optimization problem)\n",
            "  Constraints            : 505             \n",
            "  Affine conic cons.     : 0               \n",
            "  Disjunctive cons.      : 0               \n",
            "  Cones                  : 0               \n",
            "  Scalar variables       : 243             \n",
            "  Matrix variables       : 2 (scalarized: 342)\n",
            "  Integer variables      : 0               \n",
            "\n",
            "Optimizer started.\n",
            "Presolve started.\n",
            "Linear dependency checker started.\n",
            "Linear dependency checker terminated.\n",
            "Eliminator started.\n",
            "Freed constraints in eliminator : 81\n",
            "Eliminator terminated.\n",
            "Eliminator started.\n",
            "Freed constraints in eliminator : 0\n",
            "Eliminator terminated.\n",
            "Eliminator - tries                  : 2                 time                   : 0.00            \n",
            "Lin. dep.  - tries                  : 1                 time                   : 0.00            \n",
            "Lin. dep.  - primal attempts        : 1                 successes              : 1               \n",
            "Lin. dep.  - dual attempts          : 0                 successes              : 0               \n",
            "Lin. dep.  - primal deps.           : 72                dual deps.             : 0               \n",
            "Presolve terminated. Time: 0.01    \n",
            "GP based matrix reordering started.\n",
            "GP based matrix reordering terminated.\n",
            "Optimizer  - threads                : 1               \n",
            "Optimizer  - solved problem         : the primal      \n",
            "Optimizer  - Constraints            : 343             \n",
            "Optimizer  - Cones                  : 1               \n",
            "Optimizer  - Scalar variables       : 163               conic                  : 163             \n",
            "Optimizer  - Semi-definite variables: 2                 scalarized             : 342             \n",
            "Factor     - setup time             : 0.02            \n",
            "Factor     - dense det. time        : 0.01              GP order time          : 0.00            \n",
            "Factor     - nonzeros before factor : 3.01e+04          after factor           : 4.25e+04        \n",
            "Factor     - dense dim.             : 2                 flops                  : 6.29e+06        \n",
            "Factor     - GP saved nzs           : 2508              GP saved flops         : 7.98e+05        \n",
            "ITE PFEAS    DFEAS    GFEAS    PRSTATUS   POBJ              DOBJ              MU       TIME  \n",
            "0   1.0e+00  1.0e+00  1.0e+00  0.00e+00   -0.000000000e+00  -0.000000000e+00  1.0e+00  0.04  \n",
            "1   1.5e-01  1.5e-01  1.1e-02  3.92e+00   -3.463945275e-02  -1.710845961e-02  1.5e-01  0.06  \n",
            "2   1.7e-02  1.7e-02  4.9e-04  1.19e+00   2.349087163e-03   4.100749659e-03   1.7e-02  0.07  \n",
            "3   1.5e-03  1.5e-03  1.2e-05  9.93e-01   6.957519781e-03   7.128470828e-03   1.5e-03  0.08  \n",
            "4   1.1e-06  1.1e-06  2.3e-10  9.95e-01   7.501397281e-03   7.501523891e-03   1.1e-06  0.10  \n",
            "5   8.6e-11  8.7e-11  1.8e-14  1.00e+00   7.501735823e-03   7.501735833e-03   8.6e-11  0.11  \n",
            "Optimizer terminated. Time: 0.13    \n",
            "\n",
            "-------------[ MOSEK ]-------------\n",
            "Solver claims optimal solution for feasible problem.\n",
            "Applying the solution.\n",
            "Applied solution is primal feasible.\n",
            "Search 1.4e-01s, solve 2.1e-01s, overhead 52%.\n",
            "=============[ PICOS ]=============\n"
          ]
        },
        {
          "data": {
            "text/plain": [
              "<primal feasible solution pair (claimed optimal) from mosek>"
            ]
          },
          "execution_count": 61,
          "metadata": {},
          "output_type": "execute_result"
        }
      ],
      "source": [
        "#Solve the problem using cvxopt as a solver\n",
        "prob2P.solve(verbosity=True,solver='mosek')"
      ]
    },
    {
      "cell_type": "code",
      "execution_count": 62,
      "metadata": {
        "colab": {
          "base_uri": "https://localhost:8080/"
        },
        "id": "ee-maYoowDpX",
        "outputId": "acf97ec2-5550-4a9a-c487-db6900beace8"
      },
      "outputs": [
        {
          "name": "stdout",
          "output_type": "stream",
          "text": [
            "Status at the end of solving the problem using mosek: optimal\n",
            "The input state parameter alpha is 0.75\n",
            "Least mu obtained from solving the SDP using mosek above is 0.007501735823247499\n"
          ]
        }
      ],
      "source": [
        "print('Status at the end of solving the problem using mosek:', prob2P.status)\n",
        "mu2P =  prob2P.value\n",
        "\n",
        "print('The input state parameter alpha is', al)\n",
        "print('Least mu obtained from solving the SDP using mosek above is', mu2P)"
      ]
    },
    {
      "cell_type": "markdown",
      "metadata": {
        "id": "uO4R5x64wH5d"
      },
      "source": [
        "# Example 3"
      ]
    },
    {
      "cell_type": "markdown",
      "metadata": {
        "id": "1ifl1ZTywK48"
      },
      "source": [
        "Given a bell state $|\\phi⟩ = \\frac{1}{\\sqrt{2}}(|00⟩ + |11⟩)$ check if $\\rho_{ab}$ has a $k=2$ extension."
      ]
    },
    {
      "cell_type": "code",
      "execution_count": 63,
      "metadata": {
        "id": "ezHGVFFtwI9P"
      },
      "outputs": [],
      "source": [
        "#State to check separability\n",
        "phiMat = np.array([[1.,0.,0.,1.],\n",
        "                [0.,0.,0.,0.],\n",
        "                [0.,0.,0.,0.],\n",
        "                [1.,0.,0.,1.]])/2\n",
        "da = 2\n",
        "db = 2\n",
        "db1 = db\n",
        "db2 = db\n",
        "dB = db1*db2"
      ]
    },
    {
      "cell_type": "code",
      "execution_count": 64,
      "metadata": {
        "id": "yHn4ixtPv73E"
      },
      "outputs": [],
      "source": [
        "#Constants\n",
        "#----------\n",
        "pab = pic.Constant(\"pab\", phiMat)\n",
        "\n",
        "\n",
        "Ia = pic.Constant('Ia', np.eye(da))\n",
        "Ib = pic.Constant('Ib', np.eye(db))\n",
        "Iab = pic.Constant('Iab', np.eye(da*db))\n",
        "IaB = pic.Constant('IaB', np.eye(da*dB))\n",
        "Ib1b2 = pic.Constant('Ib1b2', np.eye(db1*db2))\n",
        "Iab1b2 = pic.Constant('Iab1b2', np.eye(da*db1*db2))\n",
        "\n",
        "Sb1b2 = pic.Constant('Sb1b2', P23_matrix(da, db1, db2)) # swap\n",
        "prod = pic.Constant('IIb1b2', (Iab1b2 + Sb1b2)/2) # projector\n",
        "\n",
        "shpa = (da, da)\n",
        "shpab = (da*db,da*db)\n",
        "shpb = (db,db)\n",
        "shpB = (dB,dB)\n",
        "shpaB = (da*dB, da*dB)\n",
        "shpsys = (da,db1,db2)\n",
        "\n",
        "#Variables\n",
        "#----------\n",
        "W = pic.HermitianVariable('W', shpab)\n",
        "Z0 = pic.HermitianVariable('Z0', shpaB)\n",
        "Z1 = pic.HermitianVariable('Z1', shpaB)\n",
        "Z2 = pic.HermitianVariable('Z2', shpaB)"
      ]
    },
    {
      "cell_type": "markdown",
      "metadata": {
        "id": "_nB-i_MLwOH2"
      },
      "source": [
        "The $k=2$ formulation is\n",
        "$$\\max_{W, Z_{j}} \\rho_{ab} \\boldsymbol{\\cdot} W$$\n",
        "$$\\text{ subject to }\\prod_{b_{1}b_{2}}(W \\otimes I_{b_{2}} + Z_{0} + \\mathcal{T}_{b_{1}}(Z_{1}) + {T}_{b_{1},b_{2}}(Z_{2}))\\prod_{b_{1}b_{2}} = 0$$\n",
        "$$I_{ab} \\boldsymbol{\\cdot} W = -1$$\n",
        "$$Z_{0}, Z_{1}, Z_{2} \\succeq 0$$"
      ]
    },
    {
      "cell_type": "code",
      "execution_count": 65,
      "metadata": {
        "colab": {
          "base_uri": "https://localhost:8080/"
        },
        "id": "K6C89WJCwNk1",
        "outputId": "dd791395-0071-4e2b-9465-99cd32b0499a"
      },
      "outputs": [
        {
          "data": {
            "text/plain": [
              "<8×8 Complex LMI Constraint: Z2 ≽ 0>"
            ]
          },
          "execution_count": 65,
          "metadata": {},
          "output_type": "execute_result"
        }
      ],
      "source": [
        "prob3P = pic.Problem()\n",
        "\n",
        "#Constraints\n",
        "#----------\n",
        "prob3P.add_constraint(prod*(W @ Ib + Z0 + pic.partial_transpose(Z1, subsystems=(1), dimensions=shpsys) + pic.partial_transpose(Z2, subsystems=(1, 2), dimensions=shpsys))*prod == 0)\n",
        "\n",
        "prob3P.add_constraint(pic.trace(Iab * W) == -1)\n",
        "\n",
        "prob3P.add_constraint(Z0 >> 0)\n",
        "prob3P.add_constraint(Z1 >> 0)\n",
        "prob3P.add_constraint(Z2 >> 0)"
      ]
    },
    {
      "cell_type": "code",
      "execution_count": 66,
      "metadata": {
        "colab": {
          "base_uri": "https://localhost:8080/"
        },
        "id": "Rw5rVoKVwQx1",
        "outputId": "c2b5ecbb-6a32-46d5-e1eb-d7abd2218e23"
      },
      "outputs": [
        {
          "name": "stdout",
          "output_type": "stream",
          "text": [
            "Complex Semidefinite Program\n",
            "  maximize tr(pab·W)\n",
            "  over\n",
            "    4×4 hermitian variable W\n",
            "    8×8 hermitian variable Zi ∀ i ∈ [0…2]\n",
            "  subject to\n",
            "    IIb1b2·(W⊗Ib + Z0 + Z1.{[2×2]⊗[2×2]ᵀ⊗[2×2]} +\n",
            "      Z2.{[2×2]⊗[2×2]ᵀ⊗[2×2]ᵀ})·IIb1b2 = 0\n",
            "    tr(Iab·W) = -1\n",
            "    Z0 ≽ 0\n",
            "    Z1 ≽ 0\n",
            "    Z2 ≽ 0\n"
          ]
        }
      ],
      "source": [
        "#Objective\n",
        "#----------\n",
        "prob3P.set_objective('max', pic.trace(pab*W))\n",
        "\n",
        "#User readable view of the problem being composed in PICOS'\n",
        "print(prob3P)"
      ]
    },
    {
      "cell_type": "code",
      "execution_count": 67,
      "metadata": {
        "colab": {
          "base_uri": "https://localhost:8080/"
        },
        "id": "zGAE2gQkwSBX",
        "outputId": "326f19fa-645f-4d57-8aa4-064cf4bfe956"
      },
      "outputs": [
        {
          "name": "stdout",
          "output_type": "stream",
          "text": [
            "===================================\n",
            "           PICOS 2.4.17            \n",
            "===================================\n",
            "Problem type: Complex Semidefinite Program.\n",
            "Searching a solution strategy for MOSEK via Optimizer API.\n",
            "Solution strategy:\n",
            "  1. ExtraOptions\n",
            "  2. ComplexAffineToRealReformulation\n",
            "  3. ComplexLMIToRealReformulation\n",
            "  4. MOSEKSolver\n",
            "Applying ExtraOptions.\n",
            "Applying ComplexAffineToRealReformulation.\n",
            "Applying ComplexLMIToRealReformulation.\n",
            "Building a MOSEK problem instance.\n",
            "Starting solution search.\n",
            "-----------------------------------\n",
            "               MOSEK               \n",
            "         via Optimizer API         \n",
            "-----------------------------------\n",
            "Problem\n",
            "  Name                   :                 \n",
            "  Objective sense        : maximize        \n",
            "  Type                   : CONIC (conic optimization problem)\n",
            "  Constraints            : 537             \n",
            "  Affine conic cons.     : 0               \n",
            "  Disjunctive cons.      : 0               \n",
            "  Cones                  : 0               \n",
            "  Scalar variables       : 208             \n",
            "  Matrix variables       : 3 (scalarized: 408)\n",
            "  Integer variables      : 0               \n",
            "\n",
            "Optimizer started.\n",
            "Presolve started.\n",
            "Linear dependency checker started.\n",
            "Linear dependency checker terminated.\n",
            "Eliminator started.\n",
            "Freed constraints in eliminator : 25\n",
            "Eliminator terminated.\n",
            "Eliminator started.\n",
            "Freed constraints in eliminator : 0\n",
            "Eliminator terminated.\n",
            "Eliminator - tries                  : 2                 time                   : 0.00            \n",
            "Lin. dep.  - tries                  : 1                 time                   : 0.00            \n",
            "Lin. dep.  - primal attempts        : 1                 successes              : 1               \n",
            "Lin. dep.  - dual attempts          : 0                 successes              : 0               \n",
            "Lin. dep.  - primal deps.           : 80                dual deps.             : 0               \n",
            "Presolve terminated. Time: 0.03    \n",
            "GP based matrix reordering started.\n",
            "GP based matrix reordering terminated.\n",
            "Optimizer  - threads                : 1               \n",
            "Optimizer  - solved problem         : the primal      \n",
            "Optimizer  - Constraints            : 420             \n",
            "Optimizer  - Cones                  : 1               \n",
            "Optimizer  - Scalar variables       : 184               conic                  : 184             \n",
            "Optimizer  - Semi-definite variables: 3                 scalarized             : 408             \n",
            "Factor     - setup time             : 0.04            \n",
            "Factor     - dense det. time        : 0.00              GP order time          : 0.00            \n",
            "Factor     - nonzeros before factor : 2.88e+04          after factor           : 3.42e+04        \n",
            "Factor     - dense dim.             : 2                 flops                  : 3.55e+06        \n",
            "Factor     - GP saved nzs           : 2.30e+04          GP saved flops         : 5.64e+06        \n",
            "ITE PFEAS    DFEAS    GFEAS    PRSTATUS   POBJ              DOBJ              MU       TIME  \n",
            "0   1.0e+00  1.0e+00  1.0e+00  0.00e+00   -0.000000000e+00  -0.000000000e+00  1.0e+00  0.08  \n",
            "1   3.5e-01  3.5e-01  1.4e-01  2.73e+00   4.214380966e-01   4.206553741e-01   3.5e-01  0.11  \n",
            "2   5.4e-02  5.4e-02  8.8e-03  1.68e+00   4.597696168e-01   4.524197916e-01   5.4e-02  0.12  \n",
            "3   2.6e-04  2.6e-04  3.1e-06  1.01e+00   5.000133059e-01   4.999544270e-01   2.6e-04  0.13  \n",
            "4   5.3e-07  5.3e-07  2.9e-10  1.00e+00   4.999997817e-01   4.999996645e-01   5.3e-07  0.14  \n",
            "5   1.5e-08  1.5e-08  1.4e-12  1.00e+00   4.999999897e-01   4.999999864e-01   1.5e-08  0.15  \n",
            "Optimizer terminated. Time: 0.18    \n",
            "\n",
            "-------------[ MOSEK ]-------------\n",
            "Solver claims optimal solution for feasible problem.\n",
            "Applying the solution.\n",
            "Applied solution is primal feasible.\n",
            "Search 2.0e-01s, solve 3.0e-01s, overhead 53%.\n",
            "=============[ PICOS ]=============\n"
          ]
        },
        {
          "data": {
            "text/plain": [
              "<primal feasible solution pair (claimed optimal) from mosek>"
            ]
          },
          "execution_count": 67,
          "metadata": {},
          "output_type": "execute_result"
        }
      ],
      "source": [
        "#Solve the problem using cvxopt as a solver\n",
        "prob3P.solve(verbosity=True,solver='mosek')"
      ]
    },
    {
      "cell_type": "code",
      "execution_count": 68,
      "metadata": {
        "colab": {
          "base_uri": "https://localhost:8080/"
        },
        "id": "GqmuNTtjwUOc",
        "outputId": "f3149909-0fdf-4910-bb20-29b209e356eb"
      },
      "outputs": [
        {
          "name": "stdout",
          "output_type": "stream",
          "text": [
            "Status at the end of solving the problem: optimal\n",
            "Least mu obtained from solving the SDP above is 0.4999999897329403\n"
          ]
        }
      ],
      "source": [
        "print('Status at the end of solving the problem:', prob3P.status)\n",
        "\n",
        "mu3P =  prob3P.value\n",
        "\n",
        "print('Least mu obtained from solving the SDP above is', mu3P)"
      ]
    },
    {
      "cell_type": "markdown",
      "metadata": {
        "id": "33hI-JspwkqW"
      },
      "source": [
        "# Example 4\n",
        "\n",
        "Check for the existence of PPT symmetric extension with $k=2$ for a two qutrit state\n",
        "$$p_{ab} = \\frac{2}{7}|\\psi_{+}⟩⟨\\psi_{+}| + \\frac{α}{7}\\sigma_{+} + \\frac{5 -  \\alpha}{7}S_{ab}\\sigma_{+} + S_{ab}$$\n",
        "where $|\\psi_{+}⟩ = \\frac{1}{\\sqrt{3}}(|00⟩ + |11⟩ + |22⟩)$, $|\\sigma_{+}⟩ = \\frac{1}{\\sqrt{3}}(|01⟩⟨01| + |12⟩⟨12| + |20⟩⟨20|)$, $S_{ab}$ is the swap operator, and $0 \\leq \\alpha \\leq \\frac{5}{2}$"
      ]
    },
    {
      "cell_type": "code",
      "execution_count": 69,
      "metadata": {
        "id": "DuYYhaV5wYAV"
      },
      "outputs": [],
      "source": [
        "da = 3\n",
        "db = 3\n",
        "db1 = db\n",
        "db2 = db\n",
        "dB = db1*db2"
      ]
    },
    {
      "cell_type": "code",
      "execution_count": 70,
      "metadata": {
        "id": "R9NDcLVmwnyc"
      },
      "outputs": [],
      "source": [
        "#Re-construct input state from Example 2\n",
        "idMat = np.eye(da*db)\n",
        "psiP = idMat[0] + idMat[4] + idMat[8]\n",
        "psiP = np.outer(psiP,psiP)\n",
        "psiP = psiP/np.trace(psiP)"
      ]
    },
    {
      "cell_type": "code",
      "execution_count": 71,
      "metadata": {
        "id": "iufv2TMuwo-9"
      },
      "outputs": [],
      "source": [
        "sigPlus = np.outer(idMat[1],idMat[1]) + np.outer(idMat[5],idMat[5]) + np.outer(idMat[6],idMat[6])\n",
        "sigPlus = sigPlus/np.trace(sigPlus)\n",
        "sigPlusEx = np.outer(idMat[3],idMat[3]) + np.outer(idMat[7],idMat[7]) + np.outer(idMat[2],idMat[2])\n",
        "sigPlusEx = sigPlusEx/np.trace(sigPlusEx)"
      ]
    },
    {
      "cell_type": "code",
      "execution_count": 72,
      "metadata": {
        "id": "_tia_NoQwqkP"
      },
      "outputs": [],
      "source": [
        "alpha = 1.95\n",
        "rhoMat = (2/7)*psiP + (al/7)*sigPlus + ((5-al)/7)*sigPlusEx"
      ]
    },
    {
      "cell_type": "code",
      "execution_count": 73,
      "metadata": {
        "id": "RsbDbwuMwuJq"
      },
      "outputs": [],
      "source": [
        "#Constants\n",
        "#----------\n",
        "pab = pic.Constant(\"pab\", rhoMat)\n",
        "pa = pic.partial_trace(pab, subsystems=(1), dimensions=(db, db))\n",
        "\n",
        "Ia = pic.Constant('Ia', np.eye(da))\n",
        "Ib = pic.Constant('Ib', np.eye(db))\n",
        "Iab = pic.Constant('Iab', np.eye(da*db))\n",
        "IaB = pic.Constant('IaB', np.eye(da*dB))\n",
        "Ib1b2 = pic.Constant('Ib1b2', np.eye(db1*db2))\n",
        "Iab1b2 = pic.Constant('Iab1b2', np.eye(da*db1*db2))\n",
        "\n",
        "Sb1b2 = pic.Constant('Sb1b2', P23_matrix(da, db1, db2))\n",
        "prod = pic.Constant('IIb1b2', (Iab1b2 + Sb1b2)/2)\n",
        "\n",
        "shpab = (da*db, da*db)\n",
        "shpB = (dB, dB)\n",
        "shpaB = (da*dB, da*dB)\n",
        "shpsys = (da,db1,db2)\n",
        "\n",
        "#Variables\n",
        "#----------\n",
        "W = pic.HermitianVariable('W', shpab)\n",
        "Z0 = pic.HermitianVariable('Z0', shpaB)\n",
        "Z1 = pic.HermitianVariable('Z1', shpaB)\n",
        "Z2 = pic.HermitianVariable('Z2', shpaB)"
      ]
    },
    {
      "cell_type": "markdown",
      "metadata": {
        "id": "jlwrmn2PwxLB"
      },
      "source": [
        "The $k=2$ formulation is\n",
        "$$\\max_{W, Z_{j}} \\rho_{ab} \\boldsymbol{\\cdot} W$$\n",
        "$$\\text{ subject to }\\prod_{b_{1}b_{2}}(W \\otimes I_{b_{2}} + Z_{0} + \\mathcal{T}_{b_{1}}(Z_{1}) + {T}_{b_{1},b_{2}}(Z_{2}))\\prod_{b_{1}b_{2}} = 0$$\n",
        "$$I_{ab} \\boldsymbol{\\cdot} W = -1$$\n",
        "$$Z_{0}, Z_{1}, Z_{2} \\succeq 0$$"
      ]
    },
    {
      "cell_type": "code",
      "execution_count": 74,
      "metadata": {
        "colab": {
          "base_uri": "https://localhost:8080/"
        },
        "id": "-ZQhziYOwvdK",
        "outputId": "ffd45d44-5013-4916-8fc2-396e9f6c2ee5"
      },
      "outputs": [
        {
          "data": {
            "text/plain": [
              "<27×27 Complex LMI Constraint: Z2 ≽ 0>"
            ]
          },
          "execution_count": 74,
          "metadata": {},
          "output_type": "execute_result"
        }
      ],
      "source": [
        "prob4P = pic.Problem()\n",
        "\n",
        "#Constraints\n",
        "#----------\n",
        "prob4P.add_constraint(prod*(W @ Ib + Z0 + pic.partial_transpose(Z1, subsystems=(1), dimensions=shpsys) + pic.partial_transpose(Z2, subsystems=(1, 2), dimensions=shpsys))*prod == 0)\n",
        "\n",
        "prob4P.add_constraint(pic.trace(Iab * W) == -1)\n",
        "\n",
        "prob4P.add_constraint(Z0 >> 0)\n",
        "prob4P.add_constraint(Z1 >> 0)\n",
        "prob4P.add_constraint(Z2 >> 0)"
      ]
    },
    {
      "cell_type": "code",
      "execution_count": 75,
      "metadata": {
        "colab": {
          "base_uri": "https://localhost:8080/"
        },
        "id": "HSQfJJ78wzWD",
        "outputId": "0237a057-b459-41bf-d0ed-d0074c77d643"
      },
      "outputs": [
        {
          "name": "stdout",
          "output_type": "stream",
          "text": [
            "Complex Semidefinite Program\n",
            "  maximize tr(pab·W)\n",
            "  over\n",
            "    9×9 hermitian variable W\n",
            "    27×27 hermitian variable Zi ∀ i ∈ [0…2]\n",
            "  subject to\n",
            "    IIb1b2·(W⊗Ib + Z0 + Z1.{[3×3]⊗[3×3]ᵀ⊗[3×3]} +\n",
            "      Z2.{[3×3]⊗[3×3]ᵀ⊗[3×3]ᵀ})·IIb1b2 = 0\n",
            "    tr(Iab·W) = -1\n",
            "    Z0 ≽ 0\n",
            "    Z1 ≽ 0\n",
            "    Z2 ≽ 0\n"
          ]
        }
      ],
      "source": [
        "#Objective\n",
        "#----------\n",
        "prob4P.set_objective('max', pic.trace(pab*W))\n",
        "\n",
        "#User readable view of the problem being composed in PICOS'\n",
        "print(prob4P)"
      ]
    },
    {
      "cell_type": "code",
      "execution_count": 76,
      "metadata": {
        "colab": {
          "base_uri": "https://localhost:8080/"
        },
        "id": "HuS4wI_jw0cS",
        "outputId": "cb515c2d-3995-4bae-fd43-85d694f7b252"
      },
      "outputs": [
        {
          "name": "stdout",
          "output_type": "stream",
          "text": [
            "===================================\n",
            "           PICOS 2.4.17            \n",
            "===================================\n",
            "Problem type: Complex Semidefinite Program.\n",
            "Searching a solution strategy for MOSEK via Optimizer API.\n",
            "Solution strategy:\n",
            "  1. ExtraOptions\n",
            "  2. ComplexAffineToRealReformulation\n",
            "  3. ComplexLMIToRealReformulation\n",
            "  4. MOSEKSolver\n",
            "Applying ExtraOptions.\n",
            "Applying ComplexAffineToRealReformulation.\n",
            "Applying ComplexLMIToRealReformulation.\n",
            "Building a MOSEK problem instance.\n",
            "Starting solution search.\n",
            "-----------------------------------\n",
            "               MOSEK               \n",
            "         via Optimizer API         \n",
            "-----------------------------------\n",
            "Problem\n",
            "  Name                   :                 \n",
            "  Objective sense        : maximize        \n",
            "  Type                   : CONIC (conic optimization problem)\n",
            "  Constraints            : 5914            \n",
            "  Affine conic cons.     : 0               \n",
            "  Disjunctive cons.      : 0               \n",
            "  Cones                  : 0               \n",
            "  Scalar variables       : 2268            \n",
            "  Matrix variables       : 3 (scalarized: 4455)\n",
            "  Integer variables      : 0               \n",
            "\n",
            "Optimizer started.\n",
            "Presolve started.\n",
            "Linear dependency checker started.\n",
            "Linear dependency checker terminated.\n",
            "Eliminator started.\n",
            "Freed constraints in eliminator : 189\n",
            "Eliminator terminated.\n",
            "Eliminator started.\n",
            "Freed constraints in eliminator : 0\n",
            "Eliminator terminated.\n",
            "Eliminator - tries                  : 2                 time                   : 0.00            \n",
            "Lin. dep.  - tries                  : 1                 time                   : 0.01            \n",
            "Lin. dep.  - primal attempts        : 1                 successes              : 1               \n",
            "Lin. dep.  - dual attempts          : 0                 successes              : 0               \n",
            "Lin. dep.  - primal deps.           : 1089              dual deps.             : 0               \n",
            "Presolve terminated. Time: 0.10    \n",
            "GP based matrix reordering started.\n",
            "GP based matrix reordering terminated.\n",
            "Optimizer  - threads                : 1               \n",
            "Optimizer  - solved problem         : the primal      \n",
            "Optimizer  - Constraints            : 4591            \n",
            "Optimizer  - Cones                  : 1               \n",
            "Optimizer  - Scalar variables       : 2080              conic                  : 2080            \n",
            "Optimizer  - Semi-definite variables: 3                 scalarized             : 4455            \n",
            "Factor     - setup time             : 3.33            \n",
            "Factor     - dense det. time        : 0.63              GP order time          : 0.09            \n",
            "Factor     - nonzeros before factor : 3.32e+06          after factor           : 6.21e+06        \n",
            "Factor     - dense dim.             : 2                 flops                  : 1.05e+10        \n",
            "Factor     - GP saved nzs           : 1.21e+06          GP saved flops         : 4.50e+09        \n",
            "ITE PFEAS    DFEAS    GFEAS    PRSTATUS   POBJ              DOBJ              MU       TIME  \n",
            "0   1.0e+00  1.0e+00  1.0e+00  0.00e+00   -0.000000000e+00  -0.000000000e+00  1.0e+00  3.46  \n",
            "1   8.0e-01  8.0e-01  4.1e-01  6.24e+00   -3.660383226e-02  -5.685776747e-02  8.0e-01  4.40  \n",
            "2   3.6e-01  3.6e-01  9.9e-02  4.42e+00   -1.728786574e-02  -6.295673197e-02  3.6e-01  5.36  \n",
            "3   3.2e-02  3.2e-02  1.5e-03  1.26e+00   2.239857050e-02   2.286879197e-02   3.2e-02  6.50  \n",
            "4   4.0e-03  4.0e-03  2.5e-05  9.70e-01   3.158361872e-02   3.187650509e-02   4.0e-03  8.02  \n",
            "5   6.7e-05  6.7e-05  3.1e-08  9.84e-01   3.286927147e-02   3.287462280e-02   6.7e-05  10.21 \n",
            "6   4.9e-09  4.9e-09  1.2e-14  1.00e+00   3.288970376e-02   3.288970416e-02   4.9e-09  12.51 \n",
            "Optimizer terminated. Time: 12.55   \n",
            "\n",
            "-------------[ MOSEK ]-------------\n",
            "Solver claims optimal solution for feasible problem.\n",
            "Applying the solution.\n",
            "Applied solution is primal feasible.\n",
            "Search 1.3e+01s, solve 1.3e+01s, overhead 7%.\n",
            "=============[ PICOS ]=============\n"
          ]
        },
        {
          "data": {
            "text/plain": [
              "<primal feasible solution pair (claimed optimal) from mosek>"
            ]
          },
          "execution_count": 76,
          "metadata": {},
          "output_type": "execute_result"
        }
      ],
      "source": [
        "#Solve the problem using cvxopt as a solver\n",
        "prob4P.solve(verbosity=True,solver='mosek')"
      ]
    },
    {
      "cell_type": "code",
      "execution_count": 77,
      "metadata": {
        "colab": {
          "base_uri": "https://localhost:8080/"
        },
        "id": "F8F7o347w2sD",
        "outputId": "a6267048-bae7-446d-b30e-c412bc3399a6"
      },
      "outputs": [
        {
          "name": "stdout",
          "output_type": "stream",
          "text": [
            "Status at the end of solving the problem using mosek: optimal\n",
            "The input state parameter alpha is 1.95\n",
            "Least mu obtained from solving the SDP using mosek above is 0.03288970375681763\n"
          ]
        }
      ],
      "source": [
        "print('Status at the end of solving the problem using mosek:', prob4P.status)\n",
        "mu4P =  prob4P.value\n",
        "\n",
        "print('The input state parameter alpha is', alpha)\n",
        "print('Least mu obtained from solving the SDP using mosek above is', mu4P)"
      ]
    }
  ],
  "metadata": {
    "colab": {
      "provenance": []
    },
    "kernelspec": {
      "display_name": "Python 3",
      "language": "python",
      "name": "python3"
    },
    "language_info": {
      "codemirror_mode": {
        "name": "ipython",
        "version": 3
      },
      "file_extension": ".py",
      "mimetype": "text/x-python",
      "name": "python",
      "nbconvert_exporter": "python",
      "pygments_lexer": "ipython3",
      "version": "3.8.3"
    }
  },
  "nbformat": 4,
  "nbformat_minor": 0
}
