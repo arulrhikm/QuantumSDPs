{
  "cells": [
    {
      "cell_type": "code",
      "execution_count": 29,
      "metadata": {
        "colab": {
          "base_uri": "https://localhost:8080/"
        },
        "id": "7d24Sop0Wlb3",
        "outputId": "390ac4f0-1652-496e-c27a-f2e4cd1619d3"
      },
      "outputs": [
        {
          "name": "stdout",
          "output_type": "stream",
          "text": [
            "Populating the interactive namespace from numpy and matplotlib\n"
          ]
        },
        {
          "name": "stderr",
          "output_type": "stream",
          "text": [
            "/usr/local/lib/python3.10/dist-packages/IPython/core/magics/pylab.py:159: UserWarning: pylab import has clobbered these variables: ['prod']\n",
            "`%matplotlib` prevents importing * from pylab and numpy\n",
            "  warn(\"pylab import has clobbered these variables: %s\"  % clobbered +\n"
          ]
        }
      ],
      "source": [
        "%pylab inline"
      ]
    },
    {
      "cell_type": "code",
      "execution_count": 30,
      "metadata": {
        "colab": {
          "base_uri": "https://localhost:8080/"
        },
        "id": "rOLZhc7ahhEo",
        "outputId": "c29ae53d-ddb0-47f4-da00-70324e805220"
      },
      "outputs": [
        {
          "name": "stdout",
          "output_type": "stream",
          "text": [
            "Drive already mounted at /content/drive; to attempt to forcibly remount, call drive.mount(\"/content/drive\", force_remount=True).\n"
          ]
        }
      ],
      "source": [
        "from google.colab import drive\n",
        "drive.mount('/content/drive')"
      ]
    },
    {
      "cell_type": "code",
      "execution_count": 31,
      "metadata": {
        "id": "t3SZSebImLwl"
      },
      "outputs": [],
      "source": [
        "import os\n",
        "\n",
        "os.environ['MOSEKLM_LICENSE_FILE'] = '/content/mosek.lic'"
      ]
    },
    {
      "cell_type": "code",
      "execution_count": 32,
      "metadata": {
        "id": "EfghfXGGWlsu"
      },
      "outputs": [],
      "source": [
        "# For Google Colab use, commands installing packages\n",
        "try:\n",
        "  import google.colab\n",
        "  IN_COLAB = True\n",
        "except:\n",
        "  IN_COLAB = False\n",
        "\n",
        "# Install PICOS and CVXOPT in Google Colab\n",
        "if IN_COLAB:\n",
        "    !pip install -q picos\n",
        "    !pip install -q mosek"
      ]
    },
    {
      "cell_type": "code",
      "execution_count": 33,
      "metadata": {
        "id": "XPm9A0Mdhkqv"
      },
      "outputs": [],
      "source": [
        "import picos as pic\n",
        "import numpy as np"
      ]
    },
    {
      "cell_type": "code",
      "execution_count": 34,
      "metadata": {
        "colab": {
          "base_uri": "https://localhost:8080/"
        },
        "id": "rQ1JLSLMWxab",
        "outputId": "378d0d12-d268-4f13-9285-82e0259e7f91"
      },
      "outputs": [
        {
          "name": "stdout",
          "output_type": "stream",
          "text": [
            "Solvers supported on this installation of picos: dict_keys(['cplex', 'cvxopt', 'ecos', 'glpk', 'gurobi', 'mosek', 'mskfsn', 'osqp', 'scip', 'smcp'])\n",
            "Solvers available to picos on this machine : ['cvxopt', 'ecos', 'mosek', 'mskfsn', 'osqp']\n"
          ]
        }
      ],
      "source": [
        "print('Solvers supported on this installation of picos:', pic.solvers.all_solvers().keys())\n",
        "print('Solvers available to picos on this machine :', pic.solvers.available_solvers())"
      ]
    },
    {
      "cell_type": "code",
      "execution_count": 35,
      "metadata": {
        "id": "A30mHfCupfOj"
      },
      "outputs": [],
      "source": [
        "def P23_matrix(da, db1, db2):\n",
        "    \"\"\"\n",
        "    Create the permutation matrix S_{b1,b2} for dimensions m, n, and p\n",
        "    such that it permutes the tensor product as:\n",
        "    S_{b1,b2}(|\\psi_{a}⟩ ⊗ |\\phi_{b_{1}}⟩ ⊗ |\\theta_{b_{2}}⟩) = |\\psi_{a}⟩ ⊗ (|\\theta_{b_{1}}⟩ ⊗ |\\phi_{b_{2}}⟩)\n",
        "\n",
        "    Parameters:\n",
        "    da (int): Dimension of |\\psi_a⟩\n",
        "    db1 (int): Dimension of |\\phi_{b_1}⟩\n",
        "    db2 (int): Dimension of |\\theta_{b_2}⟩\n",
        "\n",
        "    Returns:\n",
        "    numpy.ndarray: The permutation matrix\n",
        "    \"\"\"\n",
        "    # Total size of the tensor product space\n",
        "    total_size = da * db1 * db2\n",
        "\n",
        "    # Create the permutation matrix\n",
        "    P = np.zeros((total_size, total_size))\n",
        "\n",
        "    for a in range(da):\n",
        "        for b1 in range(db1):\n",
        "            for b2 in range(db2):\n",
        "                old_index = a * db1 * db2 + b1 * db2 + b2\n",
        "                new_index = a * db1 * db2 + b2 * db1 + b1\n",
        "                P[new_index, old_index] = 1\n",
        "\n",
        "    return P"
      ]
    },
    {
      "cell_type": "code",
      "execution_count": 36,
      "metadata": {
        "colab": {
          "base_uri": "https://localhost:8080/"
        },
        "id": "lHEmDF0OphOF",
        "outputId": "f4eb7ae5-9df1-4102-f08b-65498af8b8ca"
      },
      "outputs": [
        {
          "name": "stdout",
          "output_type": "stream",
          "text": [
            "Permutation matrix is correct\n"
          ]
        }
      ],
      "source": [
        "# P23 Test\n",
        "# Define two matrices\n",
        "phi1 = np.array([[1],\n",
        "              [2]])\n",
        "da = 2\n",
        "\n",
        "phi2 = np.array([[2],\n",
        "              [3]])\n",
        "db1 = 2\n",
        "\n",
        "phi3 = np.array([[4],\n",
        "              [5]])\n",
        "db2 = 2\n",
        "\n",
        "# create permatutation matrix\n",
        "Sab1b2 = P23_matrix(da, db1, db2)\n",
        "\n",
        "if np.all(Sab1b2 @ np.kron(np.kron(phi1, phi2), phi3)) == np.all(Sab1b2 @ np.kron(np.kron(phi1, phi3), phi2)):\n",
        "  print(\"Permutation matrix is correct\")\n",
        "else:\n",
        "  print(\"Permutation matrix is incorrect\")"
      ]
    },
    {
      "cell_type": "markdown",
      "metadata": {
        "id": "fdtbTy-mplQS"
      },
      "source": [
        "# Example 3"
      ]
    },
    {
      "cell_type": "markdown",
      "metadata": {
        "id": "3woW29tWppRy"
      },
      "source": [
        "Given a bell state $|\\phi⟩ = \\frac{1}{\\sqrt{2}}(|00⟩ + |11⟩)$ check if $\\rho_{ab}$ has a $k=2$ extension."
      ]
    },
    {
      "cell_type": "code",
      "execution_count": 37,
      "metadata": {
        "id": "aJUEjTaBd1S-"
      },
      "outputs": [],
      "source": [
        "#State to check separability\n",
        "phiMat = np.array([[1.,0.,0.,1.],\n",
        "                [0.,0.,0.,0.],\n",
        "                [0.,0.,0.,0.],\n",
        "                [1.,0.,0.,1.]])/2\n",
        "da = 2\n",
        "db = 2\n",
        "db1 = db\n",
        "db2 = db\n",
        "dB = db1*db2\n",
        "k=2"
      ]
    },
    {
      "cell_type": "code",
      "execution_count": 38,
      "metadata": {
        "id": "yVKXfAiCd8ZL"
      },
      "outputs": [],
      "source": [
        "\n",
        "#Constants\n",
        "#----------\n",
        "pab = pic.Constant(\"pab\", phiMat)\n",
        "\n",
        "Ia = pic.Constant('Ia', np.eye(da))\n",
        "Ib = pic.Constant('Ib', np.eye(db))\n",
        "Iab = pic.Constant('Iab', np.eye(da*db))\n",
        "IB = pic.Constant('IB', np.eye(dB))\n",
        "IaB = pic.Constant('IaB', np.eye(da*dB))\n",
        "Iab1b2 = pic.Constant('Iab1b2', np.eye(da*db1*db2))\n",
        "\n",
        "Sb1b2 = pic.Constant('Sb1b2', P23_matrix(da, db1, db2))\n",
        "\n",
        "prod = pic.Constant('IIb1b2', (Iab1b2 + Sb1b2)/2)\n",
        "\n",
        "shpab = (da*db,da*db)\n",
        "shpb = (db,db)\n",
        "shpB = (dB,dB)\n",
        "shpaB = (da*dB, da*dB)\n",
        "shpsys = (da,db1,db2)\n",
        "\n",
        "Y_init = Ia\n",
        "\n",
        "#Variables\n",
        "#----------\n",
        "W = pic.HermitianVariable('W', shpab)\n",
        "Z = pic.HermitianVariable('Z', shpaB)\n",
        "\n",
        "#Initial Points\n",
        "#---------\n",
        "W_init = (-1/(db*pic.trace(Y_init)))*Y_init@Ib\n",
        "Z_init = (1/((db**(k-1)*pic.trace(Y_init)))*Y_init@IB)"
      ]
    },
    {
      "cell_type": "markdown",
      "metadata": {
        "id": "hMS0Q2IGtHtH"
      },
      "source": [
        "The $k=2$ formulation is\n",
        "$$\\max_{W, Z_{j}} \\rho_{ab} \\boldsymbol{\\cdot} W$$\n",
        "$$\\text{ subject to }\\prod_{b_{1}b_{2}}(W \\otimes I_{b_{2}} + Z)\\prod_{b_{1}b_{2}} = 0$$\n",
        "$$I_{ab} \\boldsymbol{\\cdot} W = -1$$\n",
        "$$Z \\succeq 0$$\n",
        "\n",
        "where with $S_{b1,b2}$ defined as\n",
        "$$S_{b1,b2}(|\\psi_{a}⟩ ⊗ |\\phi_{b_{1}}⟩ ⊗ |\\theta_{b_{2}}⟩) = |\\psi_{a}⟩ ⊗ (|\\theta_{b_{1}}⟩ \\otimes |\\phi_{b_{2}}⟩)$$"
      ]
    },
    {
      "cell_type": "code",
      "execution_count": 39,
      "metadata": {
        "colab": {
          "base_uri": "https://localhost:8080/"
        },
        "id": "bEUqVW8OqACX",
        "outputId": "99a52765-ac6d-4773-ff6a-e61e44d9bcee"
      },
      "outputs": [
        {
          "data": {
            "text/plain": [
              "<8×8 Complex LMI Constraint: Z ≽ 0>"
            ]
          },
          "execution_count": 39,
          "metadata": {},
          "output_type": "execute_result"
        }
      ],
      "source": [
        "prob3P = pic.Problem()\n",
        "\n",
        "#Constraints\n",
        "#----------\n",
        "prob3P.add_constraint(prod*((W @ Ib) + Z)*prod == 0)\n",
        "\n",
        "prob3P.add_constraint(pic.trace(Iab * W) == -1)\n",
        "\n",
        "prob3P.add_constraint(Z >> 0)"
      ]
    },
    {
      "cell_type": "code",
      "execution_count": 40,
      "metadata": {
        "colab": {
          "base_uri": "https://localhost:8080/"
        },
        "id": "7t9gpxLPeAqF",
        "outputId": "6964e30f-7676-4db6-f760-a331ccc7d122"
      },
      "outputs": [
        {
          "name": "stdout",
          "output_type": "stream",
          "text": [
            "Complex Semidefinite Program\n",
            "  maximize tr(pab·W)\n",
            "  over\n",
            "    4×4 hermitian variable W\n",
            "    8×8 hermitian variable Z\n",
            "  subject to\n",
            "    IIb1b2·(W⊗Ib + Z)·IIb1b2 = 0\n",
            "    tr(Iab·W) = -1\n",
            "    Z ≽ 0\n"
          ]
        }
      ],
      "source": [
        "#Objective\n",
        "#----------\n",
        "prob3P.set_objective('max', pic.trace(pab*W))\n",
        "\n",
        "#User readable view of the problem being composed in PICOS'\n",
        "print(prob3P)"
      ]
    },
    {
      "cell_type": "code",
      "execution_count": 41,
      "metadata": {
        "colab": {
          "base_uri": "https://localhost:8080/"
        },
        "id": "Z29Mg0TId4hX",
        "outputId": "8bac68c9-f57e-4b82-a7c5-d5fe72c24d11"
      },
      "outputs": [
        {
          "name": "stdout",
          "output_type": "stream",
          "text": [
            "===================================\n",
            "           PICOS 2.4.17            \n",
            "===================================\n",
            "Problem type: Complex Semidefinite Program.\n",
            "Searching a solution strategy for MOSEK via Optimizer API.\n",
            "Solution strategy:\n",
            "  1. ExtraOptions\n",
            "  2. ComplexAffineToRealReformulation\n",
            "  3. ComplexLMIToRealReformulation\n",
            "  4. MOSEKSolver\n",
            "Applying ExtraOptions.\n",
            "Applying ComplexAffineToRealReformulation.\n",
            "Applying ComplexLMIToRealReformulation.\n",
            "Building a MOSEK problem instance.\n",
            "Starting solution search.\n",
            "-----------------------------------\n",
            "               MOSEK               \n",
            "         via Optimizer API         \n",
            "-----------------------------------\n",
            "Problem\n",
            "  Name                   :                 \n",
            "  Objective sense        : maximize        \n",
            "  Type                   : CONIC (conic optimization problem)\n",
            "  Constraints            : 265             \n",
            "  Affine conic cons.     : 0               \n",
            "  Disjunctive cons.      : 0               \n",
            "  Cones                  : 0               \n",
            "  Scalar variables       : 80              \n",
            "  Matrix variables       : 1 (scalarized: 136)\n",
            "  Integer variables      : 0               \n",
            "\n",
            "Optimizer started.\n",
            "Presolve started.\n",
            "Linear dependency checker started.\n",
            "Linear dependency checker terminated.\n",
            "Eliminator started.\n",
            "Freed constraints in eliminator : 29\n",
            "Eliminator terminated.\n",
            "Eliminator started.\n",
            "Freed constraints in eliminator : 0\n",
            "Eliminator terminated.\n",
            "Eliminator - tries                  : 2                 time                   : 0.00            \n",
            "Lin. dep.  - tries                  : 1                 time                   : 0.00            \n",
            "Lin. dep.  - primal attempts        : 1                 successes              : 1               \n",
            "Lin. dep.  - dual attempts          : 0                 successes              : 0               \n",
            "Lin. dep.  - primal deps.           : 72                dual deps.             : 0               \n",
            "Presolve terminated. Time: 0.01    \n",
            "GP based matrix reordering started.\n",
            "GP based matrix reordering terminated.\n",
            "Optimizer  - threads                : 1               \n",
            "Optimizer  - solved problem         : the primal      \n",
            "Optimizer  - Constraints            : 136             \n",
            "Optimizer  - Cones                  : 1               \n",
            "Optimizer  - Scalar variables       : 44                conic                  : 44              \n",
            "Optimizer  - Semi-definite variables: 1                 scalarized             : 136             \n",
            "Factor     - setup time             : 0.00            \n",
            "Factor     - dense det. time        : 0.00              GP order time          : 0.00            \n",
            "Factor     - nonzeros before factor : 9316              after factor           : 9316            \n",
            "Factor     - dense dim.             : 0                 flops                  : 9.28e+05        \n",
            "ITE PFEAS    DFEAS    GFEAS    PRSTATUS   POBJ              DOBJ              MU       TIME  \n",
            "0   1.0e+00  1.0e+00  1.0e+00  0.00e+00   -5.000000000e-01  -5.000000000e-01  1.0e+00  0.02  \n",
            "1   1.4e-01  1.4e-01  5.7e-02  2.61e+00   1.973776015e-02   -8.986666460e-02  1.4e-01  0.04  \n",
            "2   2.0e-03  2.0e-03  8.6e-05  9.51e-01   1.234636669e-01   1.224252792e-01   2.0e-03  0.04  \n",
            "3   9.7e-06  9.7e-06  3.0e-08  1.00e+00   1.249916370e-01   1.249864317e-01   9.7e-06  0.04  \n",
            "4   9.1e-09  9.1e-09  8.5e-13  1.00e+00   1.249999913e-01   1.249999867e-01   9.1e-09  0.04  \n",
            "Optimizer terminated. Time: 0.06    \n",
            "\n",
            "-------------[ MOSEK ]-------------\n",
            "Solver claims optimal solution for feasible problem.\n",
            "Applying the solution.\n",
            "Applied solution is primal feasible.\n",
            "Search 6.1e-02s, solve 1.0e-01s, overhead 67%.\n",
            "=============[ PICOS ]=============\n"
          ]
        },
        {
          "data": {
            "text/plain": [
              "<primal feasible solution pair (claimed optimal) from mosek>"
            ]
          },
          "execution_count": 41,
          "metadata": {},
          "output_type": "execute_result"
        }
      ],
      "source": [
        "#Solve the problem using cvxopt as a solver\n",
        "prob3P.solve(verbosity=True,solver='mosek')"
      ]
    },
    {
      "cell_type": "code",
      "execution_count": 42,
      "metadata": {
        "colab": {
          "base_uri": "https://localhost:8080/"
        },
        "id": "kMmcikK6eEnN",
        "outputId": "869651d6-5711-44b2-e309-73173e3dc6b8"
      },
      "outputs": [
        {
          "name": "stdout",
          "output_type": "stream",
          "text": [
            "Status at the end of solving the problem using mosek: optimal\n",
            "Least mu obtained from solving the SDP using mosek above is 0.12499999127694963\n"
          ]
        }
      ],
      "source": [
        "print('Status at the end of solving the problem using mosek:', prob3P.status)\n",
        "\n",
        "mu3P =  prob3P.value\n",
        "\n",
        "print('Least mu obtained from solving the SDP using mosek above is', mu3P)"
      ]
    },
    {
      "cell_type": "markdown",
      "metadata": {
        "id": "MHyPOxfitNwJ"
      },
      "source": [
        "# Example 4\n",
        "\n",
        "Check for the existence of PPT symmetric extension with $k=2$ for a two qutrit state\n",
        "$$p_{ab} = \\frac{2}{7}|\\psi_{+}⟩⟨\\psi_{+}| + \\frac{α}{7}\\sigma_{+} + \\frac{5 -  \\alpha}{7}S_{ab}\\sigma_{+} + S_{ab}$$\n",
        "where $|\\psi_{+}⟩ = \\frac{1}{\\sqrt{3}}(|00⟩ + |11⟩ + |22⟩)$, $|\\sigma_{+}⟩ = \\frac{1}{\\sqrt{3}}(|01⟩⟨01| + |12⟩⟨12| + |20⟩⟨20|)$, $S_{ab}$ is the swap operator, and $0 \\leq \\alpha \\leq \\frac{5}{2}$"
      ]
    },
    {
      "cell_type": "code",
      "execution_count": 43,
      "metadata": {
        "id": "lKzEyMSreInD"
      },
      "outputs": [],
      "source": [
        "k = 2\n",
        "da = 3\n",
        "db = 3\n",
        "db1 = db\n",
        "db2 = db\n",
        "dB = db1*db2"
      ]
    },
    {
      "cell_type": "code",
      "execution_count": 44,
      "metadata": {
        "id": "Kj4TNr7qeMAt"
      },
      "outputs": [],
      "source": [
        "#Re-construct input state from Example 2\n",
        "idMat = np.eye(da*db)\n",
        "psiP = idMat[0] + idMat[4] + idMat[8]\n",
        "psiP = np.outer(psiP,psiP)\n",
        "psiP = psiP/np.trace(psiP)"
      ]
    },
    {
      "cell_type": "code",
      "execution_count": 45,
      "metadata": {
        "id": "d8Yug4-8eOSy"
      },
      "outputs": [],
      "source": [
        "sigPlus = np.outer(idMat[1],idMat[1]) + np.outer(idMat[5],idMat[5]) + np.outer(idMat[6],idMat[6])\n",
        "sigPlus = sigPlus/np.trace(sigPlus)\n",
        "sigPlusEx = np.outer(idMat[3],idMat[3]) + np.outer(idMat[7],idMat[7]) + np.outer(idMat[2],idMat[2])\n",
        "sigPlusEx = sigPlusEx/np.trace(sigPlusEx)"
      ]
    },
    {
      "cell_type": "code",
      "execution_count": 46,
      "metadata": {
        "id": "RMvWJX-eeQLy"
      },
      "outputs": [],
      "source": [
        "alpha = 1.95\n",
        "rhoMat = (2/7)*psiP + (alpha/7)*sigPlus + ((5-alpha)/7)*sigPlusEx"
      ]
    },
    {
      "cell_type": "code",
      "execution_count": 47,
      "metadata": {
        "id": "xbissPrgfynm"
      },
      "outputs": [],
      "source": [
        "#Constants\n",
        "#----------\n",
        "pab = pic.Constant(\"pab\", rhoMat)\n",
        "pa = pic.partial_trace(pab, subsystems=(1), dimensions=(db, db))\n",
        "\n",
        "Ia = pic.Constant('Ia', np.eye(da))\n",
        "Ib = pic.Constant('Ib', np.eye(db))\n",
        "IB = pic.Constant('IB', np.eye(dB))\n",
        "Iab = pic.Constant('Iab', np.eye(da*db))\n",
        "IaB = pic.Constant('IaB', np.eye(da*dB))\n",
        "Iab1b2 = pic.Constant('Iab1b2', np.eye(da*db1*db2))\n",
        "\n",
        "Sb1b2 = pic.Constant('Sb1b2', P23_matrix(da, db1, db2))\n",
        "\n",
        "prod = pic.Constant('IIb1b2', (Iab1b2 + Sb1b2)/2)\n",
        "\n",
        "\n",
        "shpab = (da*db, da*db)\n",
        "shpB = (dB, dB)\n",
        "shpaB = (da*dB, da*dB)\n",
        "shpsys = (da,db1,db2)\n",
        "\n",
        "#Initial Points\n",
        "#---------\n",
        "Y_init = Ia\n",
        "W_init = (-1/(db*pic.trace(Y_init)))*Y_init@Ib\n",
        "Z_init = (1/((db**(k-1)*pic.trace(Y_init)))*Y_init@IB)\n",
        "\n",
        "#Variables\n",
        "#----------\n",
        "W = pic.HermitianVariable('W', shpab)\n",
        "Z = pic.HermitianVariable('Z', shpaB)"
      ]
    },
    {
      "cell_type": "code",
      "execution_count": 48,
      "metadata": {
        "colab": {
          "base_uri": "https://localhost:8080/"
        },
        "id": "6wZV3ifMf3Pj",
        "outputId": "770c578b-99d0-41c3-9ec2-f73697c92add"
      },
      "outputs": [
        {
          "data": {
            "text/plain": [
              "<27×27 Complex LMI Constraint: Z ≽ 0>"
            ]
          },
          "execution_count": 48,
          "metadata": {},
          "output_type": "execute_result"
        }
      ],
      "source": [
        "prob4P = pic.Problem()\n",
        "\n",
        "#Constraints\n",
        "#----------\n",
        "prob4P.add_constraint(prod*((W @ Ib) + Z)*prod == 0)\n",
        "\n",
        "prob4P.add_constraint(pic.trace(Iab * W) == -1)\n",
        "\n",
        "prob4P.add_constraint(Z >> 0)"
      ]
    },
    {
      "cell_type": "code",
      "execution_count": 49,
      "metadata": {
        "colab": {
          "base_uri": "https://localhost:8080/"
        },
        "id": "drBD2AoIf5Xy",
        "outputId": "f0a42855-5c06-46ed-ff98-a6054da8cf3b"
      },
      "outputs": [
        {
          "name": "stdout",
          "output_type": "stream",
          "text": [
            "Complex Semidefinite Program\n",
            "  maximize tr(pab·W)\n",
            "  over\n",
            "    9×9 hermitian variable W\n",
            "    27×27 hermitian variable Z\n",
            "  subject to\n",
            "    IIb1b2·(W⊗Ib + Z)·IIb1b2 = 0\n",
            "    tr(Iab·W) = -1\n",
            "    Z ≽ 0\n"
          ]
        }
      ],
      "source": [
        "#Objective\n",
        "#----------\n",
        "prob4P.set_objective('max', pic.trace(pab*W))\n",
        "\n",
        "#User readable view of the problem being composed in PICOS'\n",
        "print(prob4P)"
      ]
    },
    {
      "cell_type": "code",
      "execution_count": 50,
      "metadata": {
        "colab": {
          "base_uri": "https://localhost:8080/"
        },
        "id": "Lximgz0nyDgY",
        "outputId": "8b9f6147-11d9-4524-cfdd-000e826be1a3"
      },
      "outputs": [
        {
          "name": "stdout",
          "output_type": "stream",
          "text": [
            "===================================\n",
            "           PICOS 2.4.17            \n",
            "===================================\n",
            "Problem type: Complex Semidefinite Program.\n",
            "Searching a solution strategy for MOSEK via Optimizer API.\n",
            "Solution strategy:\n",
            "  1. ExtraOptions\n",
            "  2. ComplexAffineToRealReformulation\n",
            "  3. ComplexLMIToRealReformulation\n",
            "  4. MOSEKSolver\n",
            "Applying ExtraOptions.\n",
            "Applying ComplexAffineToRealReformulation.\n",
            "Applying ComplexLMIToRealReformulation.\n",
            "Building a MOSEK problem instance.\n",
            "Starting solution search.\n",
            "-----------------------------------\n",
            "               MOSEK               \n",
            "         via Optimizer API         \n",
            "-----------------------------------\n",
            "Problem\n",
            "  Name                   :                 \n",
            "  Objective sense        : maximize        \n",
            "  Type                   : CONIC (conic optimization problem)\n",
            "  Constraints            : 2944            \n",
            "  Affine conic cons.     : 0               \n",
            "  Disjunctive cons.      : 0               \n",
            "  Cones                  : 0               \n",
            "  Scalar variables       : 810             \n",
            "  Matrix variables       : 1 (scalarized: 1485)\n",
            "  Integer variables      : 0               \n",
            "\n",
            "Optimizer started.\n",
            "Presolve started.\n",
            "Linear dependency checker started.\n",
            "Linear dependency checker terminated.\n",
            "Eliminator started.\n",
            "Freed constraints in eliminator : 270\n",
            "Eliminator terminated.\n",
            "Eliminator started.\n",
            "Freed constraints in eliminator : 0\n",
            "Eliminator terminated.\n",
            "Eliminator - tries                  : 2                 time                   : 0.00            \n",
            "Lin. dep.  - tries                  : 1                 time                   : 0.00            \n",
            "Lin. dep.  - primal attempts        : 1                 successes              : 1               \n",
            "Lin. dep.  - dual attempts          : 0                 successes              : 0               \n",
            "Lin. dep.  - primal deps.           : 1035              dual deps.             : 0               \n",
            "Presolve terminated. Time: 0.02    \n",
            "GP based matrix reordering started.\n",
            "GP based matrix reordering terminated.\n",
            "Optimizer  - threads                : 1               \n",
            "Optimizer  - solved problem         : the primal      \n",
            "Optimizer  - Constraints            : 1486            \n",
            "Optimizer  - Cones                  : 1               \n",
            "Optimizer  - Scalar variables       : 487               conic                  : 487             \n",
            "Optimizer  - Semi-definite variables: 1                 scalarized             : 1485            \n",
            "Factor     - setup time             : 0.40            \n",
            "Factor     - dense det. time        : 0.15              GP order time          : 0.00            \n",
            "Factor     - nonzeros before factor : 1.10e+06          after factor           : 1.10e+06        \n",
            "Factor     - dense dim.             : 0                 flops                  : 1.10e+09        \n",
            "ITE PFEAS    DFEAS    GFEAS    PRSTATUS   POBJ              DOBJ              MU       TIME  \n",
            "0   1.0e+00  1.0e+00  1.0e+00  0.00e+00   -0.000000000e+00  -0.000000000e+00  1.0e+00  0.43  \n",
            "1   6.5e-01  6.5e-01  2.3e-01  5.34e+00   -6.673520790e-02  4.058317453e-02   6.5e-01  0.60  \n",
            "2   1.1e-01  1.1e-01  1.1e-02  3.44e+00   -5.312499065e-02  -4.446122444e-02  1.1e-01  0.74  \n",
            "3   4.5e-03  4.5e-03  1.0e-04  1.11e+00   -2.570005426e-03  -2.275287037e-03  4.5e-03  0.99  \n",
            "4   2.1e-05  2.1e-05  1.1e-08  9.89e-01   -5.675896375e-06  -2.142134444e-06  2.1e-05  1.11  \n",
            "5   2.1e-08  2.1e-08  2.9e-13  1.00e+00   -5.412837175e-09  -1.873764632e-09  2.1e-08  1.26  \n",
            "Optimizer terminated. Time: 1.29    \n",
            "\n",
            "-------------[ MOSEK ]-------------\n",
            "Solver claims optimal solution for feasible problem.\n",
            "Applying the solution.\n",
            "Applied solution is primal feasible.\n",
            "Search 1.3e+00s, solve 1.5e+00s, overhead 12%.\n",
            "=============[ PICOS ]=============\n"
          ]
        },
        {
          "data": {
            "text/plain": [
              "<primal feasible solution pair (claimed optimal) from mosek>"
            ]
          },
          "execution_count": 50,
          "metadata": {},
          "output_type": "execute_result"
        }
      ],
      "source": [
        "prob4P.solve(verbosity=True,solver=\"mosek\")"
      ]
    },
    {
      "cell_type": "code",
      "execution_count": 51,
      "metadata": {
        "colab": {
          "base_uri": "https://localhost:8080/"
        },
        "id": "DWjIQxtbzReW",
        "outputId": "962a7cac-7527-4108-be2d-98a058dabb08"
      },
      "outputs": [
        {
          "name": "stdout",
          "output_type": "stream",
          "text": [
            "Status at the end of solving the problem using mosek: optimal\n",
            "Least mu obtained from solving the SDP using mosek above is -5.412837185414521e-09\n"
          ]
        }
      ],
      "source": [
        "print('Status at the end of solving the problem using mosek:', prob4P.status)\n",
        "\n",
        "mu4P =  prob4P.value\n",
        "\n",
        "print('Least mu obtained from solving the SDP using mosek above is', mu4P)"
      ]
    },
    {
      "cell_type": "code",
      "execution_count": 52,
      "metadata": {
        "colab": {
          "base_uri": "https://localhost:8080/"
        },
        "id": "Xu3Ag9qCf_bc",
        "outputId": "8cdb7f2d-69aa-4c68-ad04-f559f6857112"
      },
      "outputs": [
        {
          "name": "stdout",
          "output_type": "stream",
          "text": [
            "Status at the end of solving the problem: optimal\n",
            "The input state paramter alpha is 1.95\n",
            "Least mu obtained from solving the SDP above is -5.412837185414521e-09\n"
          ]
        }
      ],
      "source": [
        "print('Status at the end of solving the problem:', prob4P.status)\n",
        "mu4P =  prob4P.value\n",
        "\n",
        "print('The input state paramter alpha is', alpha)\n",
        "print('Least mu obtained from solving the SDP above is', mu4P)"
      ]
    }
  ],
  "metadata": {
    "colab": {
      "provenance": []
    },
    "kernelspec": {
      "display_name": "Python 3",
      "language": "python",
      "name": "python3"
    },
    "language_info": {
      "codemirror_mode": {
        "name": "ipython",
        "version": 3
      },
      "file_extension": ".py",
      "mimetype": "text/x-python",
      "name": "python",
      "nbconvert_exporter": "python",
      "pygments_lexer": "ipython3",
      "version": "3.8.3"
    }
  },
  "nbformat": 4,
  "nbformat_minor": 0
}
