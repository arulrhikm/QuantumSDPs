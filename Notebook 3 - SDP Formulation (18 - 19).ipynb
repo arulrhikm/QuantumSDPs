{
  "cells": [
    {
      "cell_type": "code",
      "execution_count": 1,
      "metadata": {
        "colab": {
          "base_uri": "https://localhost:8080/"
        },
        "id": "CmEM2Q0N5wE2",
        "outputId": "f2f09f03-f72b-46e1-d8f0-31e5c529c1eb"
      },
      "outputs": [
        {
          "name": "stdout",
          "output_type": "stream",
          "text": [
            "Populating the interactive namespace from numpy and matplotlib\n"
          ]
        }
      ],
      "source": [
        "%pylab inline"
      ]
    },
    {
      "cell_type": "code",
      "execution_count": 2,
      "metadata": {
        "colab": {
          "base_uri": "https://localhost:8080/"
        },
        "id": "y6hQ4hfe6C6E",
        "outputId": "d5be2a1c-d86d-4262-fc23-0ecd32e6c323"
      },
      "outputs": [
        {
          "name": "stdout",
          "output_type": "stream",
          "text": [
            "Mounted at /content/drive\n"
          ]
        }
      ],
      "source": [
        "from google.colab import drive\n",
        "drive.mount('/content/drive')"
      ]
    },
    {
      "cell_type": "code",
      "execution_count": 3,
      "metadata": {
        "id": "b76tus8Z6Efw"
      },
      "outputs": [],
      "source": [
        "import os\n",
        "\n",
        "os.environ['MOSEKLM_LICENSE_FILE'] = '/content/mosek.lic'"
      ]
    },
    {
      "cell_type": "code",
      "execution_count": 4,
      "metadata": {
        "colab": {
          "base_uri": "https://localhost:8080/"
        },
        "id": "7QuoyGXT6KQf",
        "outputId": "91862ac5-4f4a-4445-9d37-82bb5c861d1a"
      },
      "outputs": [
        {
          "name": "stdout",
          "output_type": "stream",
          "text": [
            "\u001b[?25l     \u001b[90m━━━━━━━━━━━━━━━━━━━━━━━━━━━━━━━━━━━━━━━━\u001b[0m \u001b[32m0.0/510.7 kB\u001b[0m \u001b[31m?\u001b[0m eta \u001b[36m-:--:--\u001b[0m\r\u001b[2K     \u001b[90m━━━━━━━━━━━━━━━━━━━━━━━━━━━━━━━━━━━━━━━━\u001b[0m \u001b[32m510.7/510.7 kB\u001b[0m \u001b[31m20.7 MB/s\u001b[0m eta \u001b[36m0:00:00\u001b[0m\n",
            "\u001b[?25h  Preparing metadata (setup.py) ... \u001b[?25l\u001b[?25hdone\n",
            "  Building wheel for picos (setup.py) ... \u001b[?25l\u001b[?25hdone\n",
            "\u001b[2K   \u001b[90m━━━━━━━━━━━━━━━━━━━━━━━━━━━━━━━━━━━━━━━━\u001b[0m \u001b[32m15.1/15.1 MB\u001b[0m \u001b[31m42.5 MB/s\u001b[0m eta \u001b[36m0:00:00\u001b[0m\n",
            "\u001b[?25h"
          ]
        }
      ],
      "source": [
        "# For Google Colab use, commands installing packages\n",
        "try:\n",
        "  import google.colab\n",
        "  IN_COLAB = True\n",
        "except:\n",
        "  IN_COLAB = False\n",
        "\n",
        "# Install PICOS and CVXOPT in Google Colab\n",
        "if IN_COLAB:\n",
        "    !pip install -q picos\n",
        "    !pip install -q mosek"
      ]
    },
    {
      "cell_type": "code",
      "execution_count": 5,
      "metadata": {
        "id": "JZT1j0eL6L_p"
      },
      "outputs": [],
      "source": [
        "import picos as pic\n",
        "import numpy as np"
      ]
    },
    {
      "cell_type": "code",
      "execution_count": 6,
      "metadata": {
        "colab": {
          "base_uri": "https://localhost:8080/"
        },
        "id": "Am6a5uWR6UPx",
        "outputId": "04c7d1ac-53c8-425d-e4a5-bc0121d471c7"
      },
      "outputs": [
        {
          "name": "stdout",
          "output_type": "stream",
          "text": [
            "Solvers supported on this installation of picos: dict_keys(['cplex', 'cvxopt', 'ecos', 'glpk', 'gurobi', 'mosek', 'mskfsn', 'osqp', 'scip', 'smcp'])\n",
            "Solvers available to picos on this machine : ['cvxopt', 'ecos', 'mosek', 'mskfsn', 'osqp']\n"
          ]
        }
      ],
      "source": [
        "print('Solvers supported on this installation of picos:', pic.solvers.all_solvers().keys())\n",
        "print('Solvers available to picos on this machine :', pic.solvers.available_solvers())"
      ]
    },
    {
      "cell_type": "code",
      "execution_count": 7,
      "metadata": {
        "id": "IQAzndld6Vfg"
      },
      "outputs": [],
      "source": [
        "def P23_matrix(da, db1, db2):\n",
        "    \"\"\"\n",
        "    Create the permutation matrix S_{b1,b2} for dimensions m, n, and p\n",
        "    such that it permutes the tensor product as:\n",
        "    S_{b1,b2}(|\\psi_{a}⟩ ⊗ |\\phi_{b_{1}}⟩ ⊗ |\\theta_{b_{2}}⟩) = |\\psi_{a}⟩ ⊗ (|\\theta_{b_{1}}⟩ ⊗ |\\phi_{b_{2}}⟩)\n",
        "\n",
        "    Parameters:\n",
        "    da (int): Dimension of |\\psi_a⟩\n",
        "    db1 (int): Dimension of |\\phi_{b_1}⟩\n",
        "    db2 (int): Dimension of |\\theta_{b_2}⟩\n",
        "\n",
        "    Returns:\n",
        "    numpy.ndarray: The permutation matrix\n",
        "    \"\"\"\n",
        "    # Total size of the tensor product space\n",
        "    total_size = da * db1 * db2\n",
        "\n",
        "    # Create the permutation matrix\n",
        "    P = np.zeros((total_size, total_size))\n",
        "\n",
        "    for a in range(da):\n",
        "        for b1 in range(db1):\n",
        "            for b2 in range(db2):\n",
        "                old_index = a * db1 * db2 + b1 * db2 + b2\n",
        "                new_index = a * db1 * db2 + b2 * db1 + b1\n",
        "                P[new_index, old_index] = 1\n",
        "\n",
        "    return P"
      ]
    },
    {
      "cell_type": "code",
      "execution_count": 8,
      "metadata": {
        "id": "igeTJTzW8PDs"
      },
      "outputs": [],
      "source": [
        "def createPartition(size):\n",
        "  d = size\n",
        "  col = 0\n",
        "  P = np.zeros((d*d,int(d*(d+1)/2)))\n",
        "  for i in range(d):\n",
        "      for j in range(i,d):\n",
        "          P[d*i+j,col] = 1\n",
        "          P[d*j+i,col] = 1\n",
        "          col = col+1\n",
        "  return P"
      ]
    },
    {
      "cell_type": "code",
      "execution_count": 9,
      "metadata": {
        "colab": {
          "base_uri": "https://localhost:8080/"
        },
        "id": "qlw7sFw88Y1h",
        "outputId": "5151b6e0-4977-4159-ec5c-e103a9d84e9c"
      },
      "outputs": [
        {
          "data": {
            "text/plain": [
              "array([[1., 0., 0., 0., 0., 0., 0., 0., 0., 0.],\n",
              "       [0., 1., 0., 0., 0., 0., 0., 0., 0., 0.],\n",
              "       [0., 0., 1., 0., 0., 0., 0., 0., 0., 0.],\n",
              "       [0., 0., 0., 1., 0., 0., 0., 0., 0., 0.],\n",
              "       [0., 1., 0., 0., 0., 0., 0., 0., 0., 0.],\n",
              "       [0., 0., 0., 0., 1., 0., 0., 0., 0., 0.],\n",
              "       [0., 0., 0., 0., 0., 1., 0., 0., 0., 0.],\n",
              "       [0., 0., 0., 0., 0., 0., 1., 0., 0., 0.],\n",
              "       [0., 0., 1., 0., 0., 0., 0., 0., 0., 0.],\n",
              "       [0., 0., 0., 0., 0., 1., 0., 0., 0., 0.],\n",
              "       [0., 0., 0., 0., 0., 0., 0., 1., 0., 0.],\n",
              "       [0., 0., 0., 0., 0., 0., 0., 0., 1., 0.],\n",
              "       [0., 0., 0., 1., 0., 0., 0., 0., 0., 0.],\n",
              "       [0., 0., 0., 0., 0., 0., 1., 0., 0., 0.],\n",
              "       [0., 0., 0., 0., 0., 0., 0., 0., 1., 0.],\n",
              "       [0., 0., 0., 0., 0., 0., 0., 0., 0., 1.]])"
            ]
          },
          "execution_count": 9,
          "metadata": {},
          "output_type": "execute_result"
        }
      ],
      "source": [
        "createPartition(4)"
      ]
    },
    {
      "cell_type": "code",
      "execution_count": 10,
      "metadata": {
        "colab": {
          "base_uri": "https://localhost:8080/"
        },
        "id": "ubIEHMnC6WuA",
        "outputId": "5efa256b-2a10-49ab-e997-32263fb199b8"
      },
      "outputs": [
        {
          "name": "stdout",
          "output_type": "stream",
          "text": [
            "Permutation matrix is correct\n"
          ]
        }
      ],
      "source": [
        "# P23 Test\n",
        "# Define two matrices\n",
        "phi1 = np.array([[1],\n",
        "              [2]])\n",
        "da = 2\n",
        "\n",
        "phi2 = np.array([[2],\n",
        "              [3]])\n",
        "db1 = 2\n",
        "\n",
        "phi3 = np.array([[4],\n",
        "              [5]])\n",
        "db2 = 2\n",
        "\n",
        "# create permatutation matrix\n",
        "Sab1b2 = P23_matrix(da, db1, db2)\n",
        "\n",
        "if np.all(Sab1b2 @ np.kron(np.kron(phi1, phi2), phi3)) == np.all(Sab1b2 @ np.kron(np.kron(phi1, phi3), phi2)):\n",
        "  print(\"Permutation matrix is correct\")\n",
        "else:\n",
        "  print(\"Permutation matrix is incorrect\")"
      ]
    },
    {
      "cell_type": "markdown",
      "metadata": {
        "id": "-EaNvw2D7Gz3"
      },
      "source": [
        "# Example 3\n",
        "\n",
        "Given a bell state $|\\phi⟩ = \\frac{1}{\\sqrt{2}}(|00⟩ + |11⟩)$ check if $\\rho_{ab}$ has a $k=2$ extension."
      ]
    },
    {
      "cell_type": "code",
      "execution_count": 11,
      "metadata": {
        "id": "cwhs1Uy97N8d"
      },
      "outputs": [],
      "source": [
        "#State to check separability\n",
        "phiMat = np.array([[1.,0.,0.,1.],\n",
        "                [0.,0.,0.,0.],\n",
        "                [0.,0.,0.,0.],\n",
        "                [1.,0.,0.,1.]])/2\n",
        "\n",
        "k = 2\n",
        "da = 2\n",
        "db = 2\n",
        "db1 = db\n",
        "db2 = db\n",
        "dB = db1*db2"
      ]
    },
    {
      "cell_type": "code",
      "execution_count": 12,
      "metadata": {
        "id": "adndhs6J7Pnm"
      },
      "outputs": [],
      "source": [
        "#Constants\n",
        "#----------\n",
        "pab = pic.Constant(\"pab\", phiMat)\n",
        "\n",
        "\n",
        "Ia = pic.Constant('Ia', np.eye(da))\n",
        "Ib = pic.Constant('Ib', np.eye(db))\n",
        "Iab = pic.Constant('Iab', np.eye(da*db))\n",
        "IaB = pic.Constant('IaB', np.eye(da*dB))\n",
        "Ib1b2 = pic.Constant('Ib1b2', np.eye(db1*db2))\n",
        "Iab1b2 = pic.Constant('Iab1b2', np.eye(da*db1*db2))\n",
        "\n",
        "Sb1b2 = pic.Constant('Sb1b2', P23_matrix(da, db1, db2)) # swap\n",
        "prod = pic.Constant('IIb1b2', (Iab1b2 + Sb1b2)/2) # projector\n",
        "\n",
        "shpa = (da, da)\n",
        "shpab = (da*db,da*db)\n",
        "shpb = (db,db)\n",
        "shpB = (dB,dB)\n",
        "shpaB = (da*dB, da*dB)\n",
        "shpsys = (da,db1,db2)\n",
        "\n",
        "partition = createPartition(k)\n",
        "\n",
        "#Variables\n",
        "#----------\n",
        "W = pic.HermitianVariable('W', shpab)"
      ]
    },
    {
      "cell_type": "markdown",
      "metadata": {
        "id": "VTBt4Vkt7rkv"
      },
      "source": [
        "The $k=2$ formulation is\n",
        "$$\\max_{W, Z_{j}} \\rho_{ab} \\boldsymbol{\\cdot} W$$\n",
        "$$\\text{ subject to }\\prod_{b_{1}b_{2}}(W \\otimes I_{b_{2}} + Z)\\prod_{b_{1}b_{2}} = 0$$\n",
        "$$I_{ab} \\boldsymbol{\\cdot} W = -1$$\n",
        "$$Z \\succeq 0$$\n",
        "\n",
        "where with $S_{b1,b2}$ defined as\n",
        "$$S_{b1,b2}(|\\psi_{a}⟩ ⊗ |\\phi_{b_{1}}⟩ ⊗ |\\theta_{b_{2}}⟩) = |\\psi_{a}⟩ ⊗ (|\\theta_{b_{1}}⟩ \\otimes |\\phi_{b_{2}}⟩)$$"
      ]
    },
    {
      "cell_type": "code",
      "execution_count": 13,
      "metadata": {
        "colab": {
          "base_uri": "https://localhost:8080/"
        },
        "id": "2jxgut0_7iKq",
        "outputId": "d8cdfcec-b37d-4d2a-d4b4-70ad1fcc6efa"
      },
      "outputs": [
        {
          "data": {
            "text/plain": [
              "<6×6 Complex LMI Constraint: Ia⊗[3×4]·(W⊗Ib)·(Ia⊗[4×3]) ≼ 0>"
            ]
          },
          "execution_count": 13,
          "metadata": {},
          "output_type": "execute_result"
        }
      ],
      "source": [
        "prob3P = pic.Problem()\n",
        "\n",
        "#Constraints\n",
        "#----------\n",
        "prob3P.add_constraint(pic.trace(Iab * W) == -1)\n",
        "\n",
        "prob3P.add_constraint((Ia @ partition.conj().T)*(W @ Ib)*(Ia @ partition) << 0)"
      ]
    },
    {
      "cell_type": "code",
      "execution_count": 14,
      "metadata": {
        "colab": {
          "base_uri": "https://localhost:8080/"
        },
        "id": "xvZ8KOU57y3v",
        "outputId": "bcb4880b-c5aa-44fd-e236-61d8b794495f"
      },
      "outputs": [
        {
          "name": "stdout",
          "output_type": "stream",
          "text": [
            "Complex Semidefinite Program\n",
            "  maximize tr(pab·W)\n",
            "  over\n",
            "    4×4 hermitian variable W\n",
            "  subject to\n",
            "    tr(Iab·W) = -1\n",
            "    Ia⊗[3×4]·(W⊗Ib)·(Ia⊗[4×3]) ≼ 0\n"
          ]
        }
      ],
      "source": [
        "#Objective\n",
        "#----------\n",
        "prob3P.set_objective('max', pic.trace(pab*W))\n",
        "\n",
        "#User readable view of the problem being composed in PICOS'\n",
        "print(prob3P)"
      ]
    },
    {
      "cell_type": "code",
      "execution_count": 17,
      "metadata": {
        "colab": {
          "base_uri": "https://localhost:8080/"
        },
        "id": "8adDwL2u9WW6",
        "outputId": "6cf79166-35be-4892-98d4-6d8e439d47e4"
      },
      "outputs": [
        {
          "name": "stdout",
          "output_type": "stream",
          "text": [
            "===================================\n",
            "           PICOS 2.4.17            \n",
            "===================================\n",
            "Problem type: Complex Semidefinite Program.\n",
            "Strategy outdated:\n",
            "1. ExtraOptions\n",
            "2. ComplexLMIToRealReformulation\n",
            "3. CVXOPTSolver.\n",
            "Searching a solution strategy for MOSEK via Optimizer API.\n",
            "Solution strategy:\n",
            "  1. ExtraOptions\n",
            "  2. ComplexLMIToRealReformulation\n",
            "  3. MOSEKSolver\n",
            "Applying ExtraOptions.\n",
            "Applying ComplexLMIToRealReformulation.\n",
            "Building a MOSEK problem instance.\n",
            "Starting solution search.\n",
            "-----------------------------------\n",
            "               MOSEK               \n",
            "         via Optimizer API         \n",
            "-----------------------------------\n",
            "Problem\n",
            "  Name                   :                 \n",
            "  Objective sense        : maximize        \n",
            "  Type                   : CONIC (conic optimization problem)\n",
            "  Constraints            : 79              \n",
            "  Affine conic cons.     : 0               \n",
            "  Disjunctive cons.      : 0               \n",
            "  Cones                  : 0               \n",
            "  Scalar variables       : 16              \n",
            "  Matrix variables       : 1 (scalarized: 78)\n",
            "  Integer variables      : 0               \n",
            "\n",
            "Optimizer started.\n",
            "Presolve started.\n",
            "Linear dependency checker started.\n",
            "Linear dependency checker terminated.\n",
            "Eliminator started.\n",
            "Freed constraints in eliminator : 1\n",
            "Eliminator terminated.\n",
            "Eliminator started.\n",
            "Freed constraints in eliminator : 0\n",
            "Eliminator terminated.\n",
            "Eliminator - tries                  : 2                 time                   : 0.00            \n",
            "Lin. dep.  - tries                  : 1                 time                   : 0.00            \n",
            "Lin. dep.  - primal attempts        : 1                 successes              : 1               \n",
            "Lin. dep.  - dual attempts          : 0                 successes              : 0               \n",
            "Lin. dep.  - primal deps.           : 0                 dual deps.             : 0               \n",
            "Presolve terminated. Time: 0.02    \n",
            "Optimizer  - threads                : 1               \n",
            "Optimizer  - solved problem         : the primal      \n",
            "Optimizer  - Constraints            : 78              \n",
            "Optimizer  - Cones                  : 1               \n",
            "Optimizer  - Scalar variables       : 16                conic                  : 16              \n",
            "Optimizer  - Semi-definite variables: 1                 scalarized             : 78              \n",
            "Factor     - setup time             : 0.00            \n",
            "Factor     - dense det. time        : 0.00              GP order time          : 0.00            \n",
            "Factor     - nonzeros before factor : 3081              after factor           : 3081            \n",
            "Factor     - dense dim.             : 0                 flops                  : 1.87e+05        \n",
            "ITE PFEAS    DFEAS    GFEAS    PRSTATUS   POBJ              DOBJ              MU       TIME  \n",
            "0   1.0e+00  1.0e+00  1.0e+00  0.00e+00   -5.000000000e-01  -5.000000000e-01  1.0e+00  0.03  \n",
            "1   1.9e-01  1.9e-01  9.1e-02  2.49e+00   -4.796406061e-02  -1.797563957e-01  1.9e-01  0.05  \n",
            "2   5.1e-03  5.1e-03  3.1e-04  1.02e+00   1.227745301e-01   1.217896099e-01   5.1e-03  0.05  \n",
            "3   1.1e-04  1.1e-04  9.4e-07  1.00e+00   1.249091537e-01   1.248877451e-01   1.1e-04  0.05  \n",
            "4   2.4e-06  2.4e-06  3.0e-09  1.00e+00   1.249972605e-01   1.249968999e-01   2.4e-06  0.06  \n",
            "5   8.9e-09  8.9e-09  6.8e-13  1.00e+00   1.249999870e-01   1.249999857e-01   8.9e-09  0.06  \n",
            "Optimizer terminated. Time: 0.10    \n",
            "\n",
            "-------------[ MOSEK ]-------------\n",
            "Solver claims optimal solution for feasible problem.\n",
            "Applying the solution.\n",
            "Applied solution is primal feasible.\n",
            "Search 1.4e-01s, solve 2.0e-01s, overhead 37%.\n",
            "=============[ PICOS ]=============\n"
          ]
        },
        {
          "data": {
            "text/plain": [
              "<primal feasible solution pair (claimed optimal) from mosek>"
            ]
          },
          "execution_count": 17,
          "metadata": {},
          "output_type": "execute_result"
        }
      ],
      "source": [
        "#Solve the problem using cvxopt as a solver\n",
        "prob3P.solve(verbosity=True,solver='mosek')"
      ]
    },
    {
      "cell_type": "code",
      "execution_count": 18,
      "metadata": {
        "colab": {
          "base_uri": "https://localhost:8080/"
        },
        "id": "6W-jsQuSDzLr",
        "outputId": "7beb4141-99c0-430c-90de-7d8c811b0965"
      },
      "outputs": [
        {
          "name": "stdout",
          "output_type": "stream",
          "text": [
            "Status at the end of solving the problem using mosek: optimal\n",
            "Least mu obtained from solving the SDP using mosek above is 0.12499998699549014\n"
          ]
        }
      ],
      "source": [
        "print('Status at the end of solving the problem using mosek:', prob3P.status)\n",
        "\n",
        "mu3P =  prob3P.value\n",
        "\n",
        "print('Least mu obtained from solving the SDP using mosek above is', mu3P)"
      ]
    },
    {
      "cell_type": "markdown",
      "metadata": {
        "id": "DK9pMQdL7Fft"
      },
      "source": [
        "# Example 4\n",
        "\n",
        "Check for the existence of PPT symmetric extension with $k=2$ for a two qutrit state\n",
        "$$p_{ab} = \\frac{2}{7}|\\psi_{+}⟩⟨\\psi_{+}| + \\frac{α}{7}\\sigma_{+} + \\frac{5 -  \\alpha}{7}S_{ab}\\sigma_{+} + S_{ab}$$\n",
        "where $|\\psi_{+}⟩ = \\frac{1}{\\sqrt{3}}(|00⟩ + |11⟩ + |22⟩)$, $|\\sigma_{+}⟩ = \\frac{1}{\\sqrt{3}}(|01⟩⟨01| + |12⟩⟨12| + |20⟩⟨20|)$, $S_{ab}$ is the swap operator, and $0 \\leq \\alpha \\leq \\frac{5}{2}$"
      ]
    },
    {
      "cell_type": "code",
      "execution_count": 19,
      "metadata": {
        "id": "33f209rE6feu"
      },
      "outputs": [],
      "source": [
        "k = 3\n",
        "da = 3\n",
        "db = 3\n",
        "db1 = db\n",
        "db2 = db\n",
        "dB = db1*db2"
      ]
    },
    {
      "cell_type": "code",
      "execution_count": 20,
      "metadata": {
        "id": "U5h9izRB9bmF"
      },
      "outputs": [],
      "source": [
        "#Re-construct input state from Example 2\n",
        "idMat = np.eye(da*db)\n",
        "psiP = idMat[0] + idMat[4] + idMat[8]\n",
        "psiP = np.outer(psiP,psiP)\n",
        "psiP = psiP/np.trace(psiP)"
      ]
    },
    {
      "cell_type": "code",
      "execution_count": 21,
      "metadata": {
        "id": "VX0f6Y999com"
      },
      "outputs": [],
      "source": [
        "sigPlus = np.outer(idMat[1],idMat[1]) + np.outer(idMat[5],idMat[5]) + np.outer(idMat[6],idMat[6])\n",
        "sigPlus = sigPlus/np.trace(sigPlus)\n",
        "sigPlusEx = np.outer(idMat[3],idMat[3]) + np.outer(idMat[7],idMat[7]) + np.outer(idMat[2],idMat[2])\n",
        "sigPlusEx = sigPlusEx/np.trace(sigPlusEx)"
      ]
    },
    {
      "cell_type": "code",
      "execution_count": 22,
      "metadata": {
        "id": "n_C0qaQ99d5W"
      },
      "outputs": [],
      "source": [
        "alpha = 1.95\n",
        "rhoMat = (2/7)*psiP + (alpha/7)*sigPlus + ((5-alpha)/7)*sigPlusEx"
      ]
    },
    {
      "cell_type": "code",
      "execution_count": 23,
      "metadata": {
        "id": "tMCb8WJJ9fPx"
      },
      "outputs": [],
      "source": [
        "#Constants\n",
        "#----------\n",
        "pab = pic.Constant(\"pab\", rhoMat)\n",
        "pa = pic.partial_trace(pab, subsystems=(1), dimensions=(db, db))\n",
        "\n",
        "Ia = pic.Constant('Ia', np.eye(da))\n",
        "Ib = pic.Constant('Ib', np.eye(db))\n",
        "IB = pic.Constant('IB', np.eye(dB))\n",
        "Iab = pic.Constant('Iab', np.eye(da*db))\n",
        "IaB = pic.Constant('IaB', np.eye(da*dB))\n",
        "Iab1b2 = pic.Constant('Iab1b2', np.eye(da*db1*db2))\n",
        "\n",
        "Sb1b2 = pic.Constant('Sb1b2', P23_matrix(da, db1, db2))\n",
        "\n",
        "prod = pic.Constant('IIb1b2', (Iab1b2 + Sb1b2)/2)\n",
        "\n",
        "partition = createPartition(k)\n",
        "\n",
        "shpab = (da*db, da*db)\n",
        "shpB = (dB, dB)\n",
        "shpaB = (da*dB, da*dB)\n",
        "shpsys = (da,db1,db2)\n",
        "\n",
        "#Initial Points\n",
        "#---------\n",
        "Y_init = Ia\n",
        "W_init = (-1/(db*pic.trace(Y_init)))*Y_init@Ib\n",
        "Z_init = (1/((db**(k-1)*pic.trace(Y_init)))*Y_init@IB)\n",
        "\n",
        "#Variables\n",
        "#----------\n",
        "W = pic.HermitianVariable('W', shpab)"
      ]
    },
    {
      "cell_type": "code",
      "execution_count": 24,
      "metadata": {
        "colab": {
          "base_uri": "https://localhost:8080/"
        },
        "id": "hzCU4StZ99PT",
        "outputId": "e76e9be6-ded5-4472-8867-a28d5ebfc12e"
      },
      "outputs": [
        {
          "data": {
            "text/plain": [
              "<18×18 Complex LMI Constraint: Ia⊗[6×9]·(W⊗Ib)·(Ia⊗[9×6]) ≼ 0>"
            ]
          },
          "execution_count": 24,
          "metadata": {},
          "output_type": "execute_result"
        }
      ],
      "source": [
        "prob4P = pic.Problem()\n",
        "\n",
        "#Constraints\n",
        "#----------\n",
        "prob4P.add_constraint(pic.trace(Iab * W) == -1)\n",
        "\n",
        "prob4P.add_constraint((Ia @ partition.conj().T)*(W @ Ib)*(Ia @ partition) << 0)"
      ]
    },
    {
      "cell_type": "code",
      "execution_count": 25,
      "metadata": {
        "colab": {
          "base_uri": "https://localhost:8080/"
        },
        "id": "regDyGTq-CN5",
        "outputId": "338caf0b-e921-48cb-e524-e6d7df5f0151"
      },
      "outputs": [
        {
          "name": "stdout",
          "output_type": "stream",
          "text": [
            "Complex Semidefinite Program\n",
            "  maximize tr(pab·W)\n",
            "  over\n",
            "    9×9 hermitian variable W\n",
            "  subject to\n",
            "    tr(Iab·W) = -1\n",
            "    Ia⊗[6×9]·(W⊗Ib)·(Ia⊗[9×6]) ≼ 0\n"
          ]
        }
      ],
      "source": [
        "#Objective\n",
        "#----------\n",
        "prob4P.set_objective('max', pic.trace(pab*W))\n",
        "\n",
        "#User readable view of the problem being composed in PICOS'\n",
        "print(prob4P)"
      ]
    },
    {
      "cell_type": "code",
      "execution_count": 28,
      "metadata": {
        "colab": {
          "base_uri": "https://localhost:8080/"
        },
        "id": "ksID6bLS-ejO",
        "outputId": "dffdd534-438a-424b-c6b2-da619f4bb8f2"
      },
      "outputs": [
        {
          "name": "stdout",
          "output_type": "stream",
          "text": [
            "===================================\n",
            "           PICOS 2.4.17            \n",
            "===================================\n",
            "Problem type: Complex Semidefinite Program.\n",
            "Strategy outdated:\n",
            "1. ExtraOptions\n",
            "2. ComplexLMIToRealReformulation\n",
            "3. CVXOPTSolver.\n",
            "Searching a solution strategy for MOSEK via Optimizer API.\n",
            "Solution strategy:\n",
            "  1. ExtraOptions\n",
            "  2. ComplexLMIToRealReformulation\n",
            "  3. MOSEKSolver\n",
            "Applying ExtraOptions.\n",
            "Applying ComplexLMIToRealReformulation.\n",
            "Building a MOSEK problem instance.\n",
            "Starting solution search.\n",
            "-----------------------------------\n",
            "               MOSEK               \n",
            "         via Optimizer API         \n",
            "-----------------------------------\n",
            "Problem\n",
            "  Name                   :                 \n",
            "  Objective sense        : maximize        \n",
            "  Type                   : CONIC (conic optimization problem)\n",
            "  Constraints            : 667             \n",
            "  Affine conic cons.     : 0               \n",
            "  Disjunctive cons.      : 0               \n",
            "  Cones                  : 0               \n",
            "  Scalar variables       : 81              \n",
            "  Matrix variables       : 1 (scalarized: 666)\n",
            "  Integer variables      : 0               \n",
            "\n",
            "Optimizer started.\n",
            "Presolve started.\n",
            "Linear dependency checker started.\n",
            "Linear dependency checker terminated.\n",
            "Eliminator started.\n",
            "Freed constraints in eliminator : 0\n",
            "Eliminator terminated.\n",
            "Eliminator - tries                  : 1                 time                   : 0.00            \n",
            "Lin. dep.  - tries                  : 1                 time                   : 0.00            \n",
            "Lin. dep.  - primal attempts        : 1                 successes              : 1               \n",
            "Lin. dep.  - dual attempts          : 0                 successes              : 0               \n",
            "Lin. dep.  - primal deps.           : 0                 dual deps.             : 0               \n",
            "Presolve terminated. Time: 0.03    \n",
            "GP based matrix reordering started.\n",
            "GP based matrix reordering terminated.\n",
            "Optimizer  - threads                : 1               \n",
            "Optimizer  - solved problem         : the primal      \n",
            "Optimizer  - Constraints            : 667             \n",
            "Optimizer  - Cones                  : 1               \n",
            "Optimizer  - Scalar variables       : 82                conic                  : 82              \n",
            "Optimizer  - Semi-definite variables: 1                 scalarized             : 666             \n",
            "Factor     - setup time             : 0.10            \n",
            "Factor     - dense det. time        : 0.02              GP order time          : 0.00            \n",
            "Factor     - nonzeros before factor : 2.23e+05          after factor           : 2.23e+05        \n",
            "Factor     - dense dim.             : 0                 flops                  : 1.01e+08        \n",
            "ITE PFEAS    DFEAS    GFEAS    PRSTATUS   POBJ              DOBJ              MU       TIME  \n",
            "0   1.0e+00  1.0e+00  1.0e+00  0.00e+00   -0.000000000e+00  -0.000000000e+00  1.0e+00  0.15  \n",
            "1   4.8e-01  4.8e-01  3.5e-01  5.28e+00   -8.784635560e-02  -4.823416411e-01  4.8e-01  0.22  \n",
            "2   5.1e-02  5.1e-02  9.7e-03  1.43e+00   -3.411924436e-02  -5.999214646e-02  5.1e-02  0.25  \n",
            "3   4.2e-03  4.2e-03  1.2e-04  9.81e-01   -1.669582039e-03  -1.538536688e-03  4.2e-03  0.27  \n",
            "4   9.9e-08  9.9e-08  1.2e-11  1.00e+00   -4.160998710e-08  -3.351435555e-08  9.9e-08  0.31  \n",
            "Optimizer terminated. Time: 0.36    \n",
            "\n",
            "-------------[ MOSEK ]-------------\n",
            "Solver claims optimal solution for feasible problem.\n",
            "Applying the solution.\n",
            "Applied solution is primal feasible.\n",
            "Search 3.7e-01s, solve 4.8e-01s, overhead 31%.\n",
            "=============[ PICOS ]=============\n"
          ]
        },
        {
          "data": {
            "text/plain": [
              "<primal feasible solution pair (claimed optimal) from mosek>"
            ]
          },
          "execution_count": 28,
          "metadata": {},
          "output_type": "execute_result"
        }
      ],
      "source": [
        "prob4P.solve(verbosity=True,solver=\"mosek\")"
      ]
    },
    {
      "cell_type": "code",
      "execution_count": 29,
      "metadata": {
        "colab": {
          "base_uri": "https://localhost:8080/"
        },
        "id": "i4pHH16J-ft_",
        "outputId": "24807b62-ab4b-47b6-9321-d6a589be9f47"
      },
      "outputs": [
        {
          "name": "stdout",
          "output_type": "stream",
          "text": [
            "Status at the end of solving the problem using mosek: optimal\n",
            "Least mu obtained from solving the SDP using mosek above is -4.160998710867059e-08\n"
          ]
        }
      ],
      "source": [
        "print('Status at the end of solving the problem using mosek:', prob4P.status)\n",
        "\n",
        "mu4P =  prob4P.value\n",
        "\n",
        "print('Least mu obtained from solving the SDP using mosek above is', mu4P)"
      ]
    }
  ],
  "metadata": {
    "colab": {
      "provenance": []
    },
    "kernelspec": {
      "display_name": "Python 3",
      "name": "python3"
    },
    "language_info": {
      "name": "python"
    }
  },
  "nbformat": 4,
  "nbformat_minor": 0
}
